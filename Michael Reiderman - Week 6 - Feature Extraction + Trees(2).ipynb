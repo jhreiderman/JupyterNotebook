{
 "cells": [
  {
   "cell_type": "markdown",
   "metadata": {},
   "source": [
    "# Assignment is below at the end"
   ]
  },
  {
   "cell_type": "markdown",
   "metadata": {},
   "source": [
    "- https://scikit-learn.org/stable/modules/tree.html\n",
    "- https://scikit-learn.org/stable/modules/generated/sklearn.tree.DecisionTreeClassifier.html\n",
    "- https://scikit-learn.org/stable/modules/generated/sklearn.tree.plot_tree.html"
   ]
  },
  {
   "cell_type": "code",
   "execution_count": 194,
   "metadata": {},
   "outputs": [],
   "source": [
    "import seaborn as sns\n",
    "import matplotlib.pyplot as plt\n",
    "%matplotlib inline\n",
    "plt.rcParams['figure.figsize'] = (20, 6)\n",
    "plt.rcParams['font.size'] = 14\n",
    "import pandas as pd\n"
   ]
  },
  {
   "cell_type": "code",
   "execution_count": 195,
   "metadata": {},
   "outputs": [],
   "source": [
    "df = pd.read_csv('C:\\\\Users\\\\Michael\\\\Downloads\\\\adult.data', index_col=False)\n"
   ]
  },
  {
   "cell_type": "code",
   "execution_count": 196,
   "metadata": {},
   "outputs": [],
   "source": [
    "golden = pd.read_csv('C:\\\\Users\\\\Michael\\\\Downloads\\\\adult.test', index_col=False)\n"
   ]
  },
  {
   "cell_type": "code",
   "execution_count": 197,
   "metadata": {},
   "outputs": [
    {
     "data": {
      "text/html": [
       "<div>\n",
       "<style scoped>\n",
       "    .dataframe tbody tr th:only-of-type {\n",
       "        vertical-align: middle;\n",
       "    }\n",
       "\n",
       "    .dataframe tbody tr th {\n",
       "        vertical-align: top;\n",
       "    }\n",
       "\n",
       "    .dataframe thead th {\n",
       "        text-align: right;\n",
       "    }\n",
       "</style>\n",
       "<table border=\"1\" class=\"dataframe\">\n",
       "  <thead>\n",
       "    <tr style=\"text-align: right;\">\n",
       "      <th></th>\n",
       "      <th>age</th>\n",
       "      <th>workclass</th>\n",
       "      <th>fnlwgt</th>\n",
       "      <th>education</th>\n",
       "      <th>education-num</th>\n",
       "      <th>marital-status</th>\n",
       "      <th>occupation</th>\n",
       "      <th>relationship</th>\n",
       "      <th>race</th>\n",
       "      <th>sex</th>\n",
       "      <th>capital-gain</th>\n",
       "      <th>capital-loss</th>\n",
       "      <th>hours-per-week</th>\n",
       "      <th>native-country</th>\n",
       "      <th>salary</th>\n",
       "    </tr>\n",
       "  </thead>\n",
       "  <tbody>\n",
       "    <tr>\n",
       "      <th>0</th>\n",
       "      <td>25</td>\n",
       "      <td>Private</td>\n",
       "      <td>226802</td>\n",
       "      <td>11th</td>\n",
       "      <td>7</td>\n",
       "      <td>Never-married</td>\n",
       "      <td>Machine-op-inspct</td>\n",
       "      <td>Own-child</td>\n",
       "      <td>Black</td>\n",
       "      <td>Male</td>\n",
       "      <td>0</td>\n",
       "      <td>0</td>\n",
       "      <td>40</td>\n",
       "      <td>United-States</td>\n",
       "      <td>&lt;=50K.</td>\n",
       "    </tr>\n",
       "    <tr>\n",
       "      <th>1</th>\n",
       "      <td>38</td>\n",
       "      <td>Private</td>\n",
       "      <td>89814</td>\n",
       "      <td>HS-grad</td>\n",
       "      <td>9</td>\n",
       "      <td>Married-civ-spouse</td>\n",
       "      <td>Farming-fishing</td>\n",
       "      <td>Husband</td>\n",
       "      <td>White</td>\n",
       "      <td>Male</td>\n",
       "      <td>0</td>\n",
       "      <td>0</td>\n",
       "      <td>50</td>\n",
       "      <td>United-States</td>\n",
       "      <td>&lt;=50K.</td>\n",
       "    </tr>\n",
       "    <tr>\n",
       "      <th>2</th>\n",
       "      <td>28</td>\n",
       "      <td>Local-gov</td>\n",
       "      <td>336951</td>\n",
       "      <td>Assoc-acdm</td>\n",
       "      <td>12</td>\n",
       "      <td>Married-civ-spouse</td>\n",
       "      <td>Protective-serv</td>\n",
       "      <td>Husband</td>\n",
       "      <td>White</td>\n",
       "      <td>Male</td>\n",
       "      <td>0</td>\n",
       "      <td>0</td>\n",
       "      <td>40</td>\n",
       "      <td>United-States</td>\n",
       "      <td>&gt;50K.</td>\n",
       "    </tr>\n",
       "    <tr>\n",
       "      <th>3</th>\n",
       "      <td>44</td>\n",
       "      <td>Private</td>\n",
       "      <td>160323</td>\n",
       "      <td>Some-college</td>\n",
       "      <td>10</td>\n",
       "      <td>Married-civ-spouse</td>\n",
       "      <td>Machine-op-inspct</td>\n",
       "      <td>Husband</td>\n",
       "      <td>Black</td>\n",
       "      <td>Male</td>\n",
       "      <td>7688</td>\n",
       "      <td>0</td>\n",
       "      <td>40</td>\n",
       "      <td>United-States</td>\n",
       "      <td>&gt;50K.</td>\n",
       "    </tr>\n",
       "    <tr>\n",
       "      <th>4</th>\n",
       "      <td>18</td>\n",
       "      <td>?</td>\n",
       "      <td>103497</td>\n",
       "      <td>Some-college</td>\n",
       "      <td>10</td>\n",
       "      <td>Never-married</td>\n",
       "      <td>?</td>\n",
       "      <td>Own-child</td>\n",
       "      <td>White</td>\n",
       "      <td>Female</td>\n",
       "      <td>0</td>\n",
       "      <td>0</td>\n",
       "      <td>30</td>\n",
       "      <td>United-States</td>\n",
       "      <td>&lt;=50K.</td>\n",
       "    </tr>\n",
       "  </tbody>\n",
       "</table>\n",
       "</div>"
      ],
      "text/plain": [
       "   age   workclass  fnlwgt      education  education-num       marital-status  \\\n",
       "0   25     Private  226802           11th              7        Never-married   \n",
       "1   38     Private   89814        HS-grad              9   Married-civ-spouse   \n",
       "2   28   Local-gov  336951     Assoc-acdm             12   Married-civ-spouse   \n",
       "3   44     Private  160323   Some-college             10   Married-civ-spouse   \n",
       "4   18           ?  103497   Some-college             10        Never-married   \n",
       "\n",
       "           occupation relationship    race      sex  capital-gain  \\\n",
       "0   Machine-op-inspct    Own-child   Black     Male             0   \n",
       "1     Farming-fishing      Husband   White     Male             0   \n",
       "2     Protective-serv      Husband   White     Male             0   \n",
       "3   Machine-op-inspct      Husband   Black     Male          7688   \n",
       "4                   ?    Own-child   White   Female             0   \n",
       "\n",
       "   capital-loss  hours-per-week  native-country   salary  \n",
       "0             0              40   United-States   <=50K.  \n",
       "1             0              50   United-States   <=50K.  \n",
       "2             0              40   United-States    >50K.  \n",
       "3             0              40   United-States    >50K.  \n",
       "4             0              30   United-States   <=50K.  "
      ]
     },
     "execution_count": 197,
     "metadata": {},
     "output_type": "execute_result"
    }
   ],
   "source": [
    "golden.head()\n"
   ]
  },
  {
   "cell_type": "code",
   "execution_count": 198,
   "metadata": {},
   "outputs": [
    {
     "data": {
      "text/html": [
       "<div>\n",
       "<style scoped>\n",
       "    .dataframe tbody tr th:only-of-type {\n",
       "        vertical-align: middle;\n",
       "    }\n",
       "\n",
       "    .dataframe tbody tr th {\n",
       "        vertical-align: top;\n",
       "    }\n",
       "\n",
       "    .dataframe thead th {\n",
       "        text-align: right;\n",
       "    }\n",
       "</style>\n",
       "<table border=\"1\" class=\"dataframe\">\n",
       "  <thead>\n",
       "    <tr style=\"text-align: right;\">\n",
       "      <th></th>\n",
       "      <th>age</th>\n",
       "      <th>workclass</th>\n",
       "      <th>fnlwgt</th>\n",
       "      <th>education</th>\n",
       "      <th>education-num</th>\n",
       "      <th>marital-status</th>\n",
       "      <th>occupation</th>\n",
       "      <th>relationship</th>\n",
       "      <th>race</th>\n",
       "      <th>sex</th>\n",
       "      <th>capital-gain</th>\n",
       "      <th>capital-loss</th>\n",
       "      <th>hours-per-week</th>\n",
       "      <th>native-country</th>\n",
       "      <th>salary</th>\n",
       "    </tr>\n",
       "  </thead>\n",
       "  <tbody>\n",
       "    <tr>\n",
       "      <th>0</th>\n",
       "      <td>39</td>\n",
       "      <td>State-gov</td>\n",
       "      <td>77516</td>\n",
       "      <td>Bachelors</td>\n",
       "      <td>13</td>\n",
       "      <td>Never-married</td>\n",
       "      <td>Adm-clerical</td>\n",
       "      <td>Not-in-family</td>\n",
       "      <td>White</td>\n",
       "      <td>Male</td>\n",
       "      <td>2174</td>\n",
       "      <td>0</td>\n",
       "      <td>40</td>\n",
       "      <td>United-States</td>\n",
       "      <td>&lt;=50K</td>\n",
       "    </tr>\n",
       "    <tr>\n",
       "      <th>1</th>\n",
       "      <td>50</td>\n",
       "      <td>Self-emp-not-inc</td>\n",
       "      <td>83311</td>\n",
       "      <td>Bachelors</td>\n",
       "      <td>13</td>\n",
       "      <td>Married-civ-spouse</td>\n",
       "      <td>Exec-managerial</td>\n",
       "      <td>Husband</td>\n",
       "      <td>White</td>\n",
       "      <td>Male</td>\n",
       "      <td>0</td>\n",
       "      <td>0</td>\n",
       "      <td>13</td>\n",
       "      <td>United-States</td>\n",
       "      <td>&lt;=50K</td>\n",
       "    </tr>\n",
       "    <tr>\n",
       "      <th>2</th>\n",
       "      <td>38</td>\n",
       "      <td>Private</td>\n",
       "      <td>215646</td>\n",
       "      <td>HS-grad</td>\n",
       "      <td>9</td>\n",
       "      <td>Divorced</td>\n",
       "      <td>Handlers-cleaners</td>\n",
       "      <td>Not-in-family</td>\n",
       "      <td>White</td>\n",
       "      <td>Male</td>\n",
       "      <td>0</td>\n",
       "      <td>0</td>\n",
       "      <td>40</td>\n",
       "      <td>United-States</td>\n",
       "      <td>&lt;=50K</td>\n",
       "    </tr>\n",
       "    <tr>\n",
       "      <th>3</th>\n",
       "      <td>53</td>\n",
       "      <td>Private</td>\n",
       "      <td>234721</td>\n",
       "      <td>11th</td>\n",
       "      <td>7</td>\n",
       "      <td>Married-civ-spouse</td>\n",
       "      <td>Handlers-cleaners</td>\n",
       "      <td>Husband</td>\n",
       "      <td>Black</td>\n",
       "      <td>Male</td>\n",
       "      <td>0</td>\n",
       "      <td>0</td>\n",
       "      <td>40</td>\n",
       "      <td>United-States</td>\n",
       "      <td>&lt;=50K</td>\n",
       "    </tr>\n",
       "    <tr>\n",
       "      <th>4</th>\n",
       "      <td>28</td>\n",
       "      <td>Private</td>\n",
       "      <td>338409</td>\n",
       "      <td>Bachelors</td>\n",
       "      <td>13</td>\n",
       "      <td>Married-civ-spouse</td>\n",
       "      <td>Prof-specialty</td>\n",
       "      <td>Wife</td>\n",
       "      <td>Black</td>\n",
       "      <td>Female</td>\n",
       "      <td>0</td>\n",
       "      <td>0</td>\n",
       "      <td>40</td>\n",
       "      <td>Cuba</td>\n",
       "      <td>&lt;=50K</td>\n",
       "    </tr>\n",
       "  </tbody>\n",
       "</table>\n",
       "</div>"
      ],
      "text/plain": [
       "   age          workclass  fnlwgt   education  education-num  \\\n",
       "0   39          State-gov   77516   Bachelors             13   \n",
       "1   50   Self-emp-not-inc   83311   Bachelors             13   \n",
       "2   38            Private  215646     HS-grad              9   \n",
       "3   53            Private  234721        11th              7   \n",
       "4   28            Private  338409   Bachelors             13   \n",
       "\n",
       "        marital-status          occupation    relationship    race      sex  \\\n",
       "0        Never-married        Adm-clerical   Not-in-family   White     Male   \n",
       "1   Married-civ-spouse     Exec-managerial         Husband   White     Male   \n",
       "2             Divorced   Handlers-cleaners   Not-in-family   White     Male   \n",
       "3   Married-civ-spouse   Handlers-cleaners         Husband   Black     Male   \n",
       "4   Married-civ-spouse      Prof-specialty            Wife   Black   Female   \n",
       "\n",
       "   capital-gain  capital-loss  hours-per-week  native-country  salary  \n",
       "0          2174             0              40   United-States   <=50K  \n",
       "1             0             0              13   United-States   <=50K  \n",
       "2             0             0              40   United-States   <=50K  \n",
       "3             0             0              40   United-States   <=50K  \n",
       "4             0             0              40            Cuba   <=50K  "
      ]
     },
     "execution_count": 198,
     "metadata": {},
     "output_type": "execute_result"
    }
   ],
   "source": [
    "df.head()\n"
   ]
  },
  {
   "cell_type": "code",
   "execution_count": 199,
   "metadata": {},
   "outputs": [
    {
     "data": {
      "text/plain": [
       "Index(['age', 'workclass', 'fnlwgt', 'education', 'education-num',\n",
       "       'marital-status', 'occupation', 'relationship', 'race', 'sex',\n",
       "       'capital-gain', 'capital-loss', 'hours-per-week', 'native-country',\n",
       "       'salary'],\n",
       "      dtype='object')"
      ]
     },
     "execution_count": 199,
     "metadata": {},
     "output_type": "execute_result"
    }
   ],
   "source": [
    "df.columns\n"
   ]
  },
  {
   "cell_type": "code",
   "execution_count": 200,
   "metadata": {},
   "outputs": [],
   "source": [
    "from sklearn import preprocessing\n"
   ]
  },
  {
   "cell_type": "code",
   "execution_count": 201,
   "metadata": {},
   "outputs": [],
   "source": [
    "# Columns we want to transform\n",
    "transform_columns = ['sex']\n",
    "\n",
    "#Columns we can't use because non-numerical\n",
    "non_num_columns = ['workclass', 'education', 'marital-status', \n",
    "                     'occupation', 'relationship', 'race', 'sex', \n",
    "                     'native-country']\n"
   ]
  },
  {
   "cell_type": "markdown",
   "metadata": {},
   "source": [
    "## First let's try using `pandas.get_dummies()` to transform columns"
   ]
  },
  {
   "cell_type": "code",
   "execution_count": 202,
   "metadata": {},
   "outputs": [
    {
     "data": {
      "text/html": [
       "<div>\n",
       "<style scoped>\n",
       "    .dataframe tbody tr th:only-of-type {\n",
       "        vertical-align: middle;\n",
       "    }\n",
       "\n",
       "    .dataframe tbody tr th {\n",
       "        vertical-align: top;\n",
       "    }\n",
       "\n",
       "    .dataframe thead th {\n",
       "        text-align: right;\n",
       "    }\n",
       "</style>\n",
       "<table border=\"1\" class=\"dataframe\">\n",
       "  <thead>\n",
       "    <tr style=\"text-align: right;\">\n",
       "      <th></th>\n",
       "      <th>sex_ Female</th>\n",
       "      <th>sex_ Male</th>\n",
       "    </tr>\n",
       "  </thead>\n",
       "  <tbody>\n",
       "    <tr>\n",
       "      <th>0</th>\n",
       "      <td>0</td>\n",
       "      <td>1</td>\n",
       "    </tr>\n",
       "    <tr>\n",
       "      <th>1</th>\n",
       "      <td>0</td>\n",
       "      <td>1</td>\n",
       "    </tr>\n",
       "    <tr>\n",
       "      <th>2</th>\n",
       "      <td>0</td>\n",
       "      <td>1</td>\n",
       "    </tr>\n",
       "    <tr>\n",
       "      <th>3</th>\n",
       "      <td>0</td>\n",
       "      <td>1</td>\n",
       "    </tr>\n",
       "    <tr>\n",
       "      <th>4</th>\n",
       "      <td>1</td>\n",
       "      <td>0</td>\n",
       "    </tr>\n",
       "    <tr>\n",
       "      <th>...</th>\n",
       "      <td>...</td>\n",
       "      <td>...</td>\n",
       "    </tr>\n",
       "    <tr>\n",
       "      <th>32556</th>\n",
       "      <td>1</td>\n",
       "      <td>0</td>\n",
       "    </tr>\n",
       "    <tr>\n",
       "      <th>32557</th>\n",
       "      <td>0</td>\n",
       "      <td>1</td>\n",
       "    </tr>\n",
       "    <tr>\n",
       "      <th>32558</th>\n",
       "      <td>1</td>\n",
       "      <td>0</td>\n",
       "    </tr>\n",
       "    <tr>\n",
       "      <th>32559</th>\n",
       "      <td>0</td>\n",
       "      <td>1</td>\n",
       "    </tr>\n",
       "    <tr>\n",
       "      <th>32560</th>\n",
       "      <td>1</td>\n",
       "      <td>0</td>\n",
       "    </tr>\n",
       "  </tbody>\n",
       "</table>\n",
       "<p>32561 rows × 2 columns</p>\n",
       "</div>"
      ],
      "text/plain": [
       "       sex_ Female  sex_ Male\n",
       "0                0          1\n",
       "1                0          1\n",
       "2                0          1\n",
       "3                0          1\n",
       "4                1          0\n",
       "...            ...        ...\n",
       "32556            1          0\n",
       "32557            0          1\n",
       "32558            1          0\n",
       "32559            0          1\n",
       "32560            1          0\n",
       "\n",
       "[32561 rows x 2 columns]"
      ]
     },
     "execution_count": 202,
     "metadata": {},
     "output_type": "execute_result"
    }
   ],
   "source": [
    "dummies = pd.get_dummies(df[transform_columns])\n",
    "dummies\n"
   ]
  },
  {
   "cell_type": "code",
   "execution_count": 203,
   "metadata": {},
   "outputs": [
    {
     "data": {
      "text/plain": [
       "(32561, 2)"
      ]
     },
     "execution_count": 203,
     "metadata": {},
     "output_type": "execute_result"
    }
   ],
   "source": [
    "dummies.shape\n"
   ]
  },
  {
   "cell_type": "markdown",
   "metadata": {},
   "source": [
    "## sklearn has a similar process for OneHot Encoding features"
   ]
  },
  {
   "cell_type": "code",
   "execution_count": 204,
   "metadata": {},
   "outputs": [
    {
     "data": {
      "text/plain": [
       "OneHotEncoder(handle_unknown='ignore', sparse=False)"
      ]
     },
     "execution_count": 204,
     "metadata": {},
     "output_type": "execute_result"
    }
   ],
   "source": [
    "onehot = preprocessing.OneHotEncoder(handle_unknown=\"ignore\", sparse=False)\n",
    "onehot.fit(df[transform_columns])\n"
   ]
  },
  {
   "cell_type": "code",
   "execution_count": 205,
   "metadata": {},
   "outputs": [
    {
     "data": {
      "text/plain": [
       "[array([' Female', ' Male'], dtype=object)]"
      ]
     },
     "execution_count": 205,
     "metadata": {},
     "output_type": "execute_result"
    }
   ],
   "source": [
    "onehot.categories_\n"
   ]
  },
  {
   "cell_type": "code",
   "execution_count": 206,
   "metadata": {},
   "outputs": [
    {
     "data": {
      "text/plain": [
       "array([[0., 1.],\n",
       "       [0., 1.],\n",
       "       [0., 1.],\n",
       "       ...,\n",
       "       [1., 0.],\n",
       "       [0., 1.],\n",
       "       [1., 0.]])"
      ]
     },
     "execution_count": 206,
     "metadata": {},
     "output_type": "execute_result"
    }
   ],
   "source": [
    "sex = onehot.transform(df[transform_columns])\n",
    "sex\n"
   ]
  },
  {
   "cell_type": "code",
   "execution_count": 207,
   "metadata": {},
   "outputs": [
    {
     "data": {
      "text/plain": [
       "(32561, 2)"
      ]
     },
     "execution_count": 207,
     "metadata": {},
     "output_type": "execute_result"
    }
   ],
   "source": [
    "sex.shape\n"
   ]
  },
  {
   "cell_type": "markdown",
   "metadata": {},
   "source": [
    "## In addition to OneHot encoding there is Ordinal Encoding "
   ]
  },
  {
   "cell_type": "code",
   "execution_count": 208,
   "metadata": {},
   "outputs": [
    {
     "data": {
      "text/plain": [
       "array([[0.],\n",
       "       [0.],\n",
       "       [0.],\n",
       "       ...,\n",
       "       [0.],\n",
       "       [0.],\n",
       "       [1.]])"
      ]
     },
     "execution_count": 208,
     "metadata": {},
     "output_type": "execute_result"
    }
   ],
   "source": [
    "enc = preprocessing.OrdinalEncoder()\n",
    "enc.fit(df[[\"salary\"]])\n",
    "salary = enc.transform(df[[\"salary\"]])\n",
    "salary\n"
   ]
  },
  {
   "cell_type": "code",
   "execution_count": 209,
   "metadata": {},
   "outputs": [
    {
     "data": {
      "text/plain": [
       "array([' <=50K', ' >50K'], dtype=object)"
      ]
     },
     "execution_count": 209,
     "metadata": {},
     "output_type": "execute_result"
    }
   ],
   "source": [
    "enc.categories_[0]\n"
   ]
  },
  {
   "cell_type": "code",
   "execution_count": 210,
   "metadata": {},
   "outputs": [],
   "source": [
    "x = df.copy()\n",
    "\n",
    "# transformed = pd.get_dummies(df[transform_columns])\n",
    "\n",
    "\n",
    "onehot = preprocessing.OneHotEncoder(handle_unknown=\"ignore\", sparse=False).fit(df[transform_columns])\n",
    "\n",
    "enc = preprocessing.OrdinalEncoder()\n",
    "\n",
    "enc.fit(df[[\"salary\"]])\n",
    "\n",
    "\n",
    "transformed = onehot.transform(df[transform_columns])\n",
    "new_cols = list(onehot.categories_[0].flatten())\n",
    "df_trans = pd.get_dummies(df[transform_columns])\n",
    "\n",
    "\n",
    "x = pd.concat(\n",
    "    [\n",
    "        x.drop(non_num_columns, axis=1), \n",
    "        df_trans\n",
    "    ], \n",
    "    axis=1,)\n",
    "\n",
    "\n",
    "x[\"salary\"] = enc.transform(df[[\"salary\"]])\n"
   ]
  },
  {
   "cell_type": "code",
   "execution_count": 211,
   "metadata": {},
   "outputs": [
    {
     "data": {
      "text/html": [
       "<div>\n",
       "<style scoped>\n",
       "    .dataframe tbody tr th:only-of-type {\n",
       "        vertical-align: middle;\n",
       "    }\n",
       "\n",
       "    .dataframe tbody tr th {\n",
       "        vertical-align: top;\n",
       "    }\n",
       "\n",
       "    .dataframe thead th {\n",
       "        text-align: right;\n",
       "    }\n",
       "</style>\n",
       "<table border=\"1\" class=\"dataframe\">\n",
       "  <thead>\n",
       "    <tr style=\"text-align: right;\">\n",
       "      <th></th>\n",
       "      <th>age</th>\n",
       "      <th>fnlwgt</th>\n",
       "      <th>education-num</th>\n",
       "      <th>capital-gain</th>\n",
       "      <th>capital-loss</th>\n",
       "      <th>hours-per-week</th>\n",
       "      <th>salary</th>\n",
       "      <th>sex_ Female</th>\n",
       "      <th>sex_ Male</th>\n",
       "    </tr>\n",
       "  </thead>\n",
       "  <tbody>\n",
       "    <tr>\n",
       "      <th>0</th>\n",
       "      <td>39</td>\n",
       "      <td>77516</td>\n",
       "      <td>13</td>\n",
       "      <td>2174</td>\n",
       "      <td>0</td>\n",
       "      <td>40</td>\n",
       "      <td>0.0</td>\n",
       "      <td>0</td>\n",
       "      <td>1</td>\n",
       "    </tr>\n",
       "    <tr>\n",
       "      <th>1</th>\n",
       "      <td>50</td>\n",
       "      <td>83311</td>\n",
       "      <td>13</td>\n",
       "      <td>0</td>\n",
       "      <td>0</td>\n",
       "      <td>13</td>\n",
       "      <td>0.0</td>\n",
       "      <td>0</td>\n",
       "      <td>1</td>\n",
       "    </tr>\n",
       "    <tr>\n",
       "      <th>2</th>\n",
       "      <td>38</td>\n",
       "      <td>215646</td>\n",
       "      <td>9</td>\n",
       "      <td>0</td>\n",
       "      <td>0</td>\n",
       "      <td>40</td>\n",
       "      <td>0.0</td>\n",
       "      <td>0</td>\n",
       "      <td>1</td>\n",
       "    </tr>\n",
       "    <tr>\n",
       "      <th>3</th>\n",
       "      <td>53</td>\n",
       "      <td>234721</td>\n",
       "      <td>7</td>\n",
       "      <td>0</td>\n",
       "      <td>0</td>\n",
       "      <td>40</td>\n",
       "      <td>0.0</td>\n",
       "      <td>0</td>\n",
       "      <td>1</td>\n",
       "    </tr>\n",
       "    <tr>\n",
       "      <th>4</th>\n",
       "      <td>28</td>\n",
       "      <td>338409</td>\n",
       "      <td>13</td>\n",
       "      <td>0</td>\n",
       "      <td>0</td>\n",
       "      <td>40</td>\n",
       "      <td>0.0</td>\n",
       "      <td>1</td>\n",
       "      <td>0</td>\n",
       "    </tr>\n",
       "  </tbody>\n",
       "</table>\n",
       "</div>"
      ],
      "text/plain": [
       "   age  fnlwgt  education-num  capital-gain  capital-loss  hours-per-week  \\\n",
       "0   39   77516             13          2174             0              40   \n",
       "1   50   83311             13             0             0              13   \n",
       "2   38  215646              9             0             0              40   \n",
       "3   53  234721              7             0             0              40   \n",
       "4   28  338409             13             0             0              40   \n",
       "\n",
       "   salary  sex_ Female  sex_ Male  \n",
       "0     0.0            0          1  \n",
       "1     0.0            0          1  \n",
       "2     0.0            0          1  \n",
       "3     0.0            0          1  \n",
       "4     0.0            1          0  "
      ]
     },
     "execution_count": 211,
     "metadata": {},
     "output_type": "execute_result"
    }
   ],
   "source": [
    "x.head()\n"
   ]
  },
  {
   "cell_type": "code",
   "execution_count": 212,
   "metadata": {},
   "outputs": [],
   "source": [
    "xt = golden.copy()\n",
    "\n",
    "transformed = onehot.transform(xt[transform_columns])\n",
    "new_cols = list(onehot.categories_[0].flatten())\n",
    "df_trans = pd.DataFrame(transformed, columns=new_cols)\n",
    "\n",
    "xt = pd.concat(\n",
    "    [\n",
    "        xt.drop(non_num_columns, axis=1), \n",
    "        df_trans\n",
    "    ], \n",
    "    axis=1,)\n",
    "\n",
    "xt[\"salary\"] = enc.fit_transform(golden[[\"salary\"]])\n"
   ]
  },
  {
   "cell_type": "code",
   "execution_count": 213,
   "metadata": {},
   "outputs": [
    {
     "data": {
      "text/plain": [
       "0.0    12435\n",
       "1.0     3846\n",
       "Name: salary, dtype: int64"
      ]
     },
     "execution_count": 213,
     "metadata": {},
     "output_type": "execute_result"
    }
   ],
   "source": [
    "xt.salary.value_counts()\n"
   ]
  },
  {
   "cell_type": "code",
   "execution_count": 214,
   "metadata": {},
   "outputs": [
    {
     "data": {
      "text/html": [
       "<div>\n",
       "<style scoped>\n",
       "    .dataframe tbody tr th:only-of-type {\n",
       "        vertical-align: middle;\n",
       "    }\n",
       "\n",
       "    .dataframe tbody tr th {\n",
       "        vertical-align: top;\n",
       "    }\n",
       "\n",
       "    .dataframe thead th {\n",
       "        text-align: right;\n",
       "    }\n",
       "</style>\n",
       "<table border=\"1\" class=\"dataframe\">\n",
       "  <thead>\n",
       "    <tr style=\"text-align: right;\">\n",
       "      <th></th>\n",
       "      <th>age</th>\n",
       "      <th>fnlwgt</th>\n",
       "      <th>education-num</th>\n",
       "      <th>capital-gain</th>\n",
       "      <th>capital-loss</th>\n",
       "      <th>hours-per-week</th>\n",
       "      <th>salary</th>\n",
       "      <th>sex_ Female</th>\n",
       "      <th>sex_ Male</th>\n",
       "    </tr>\n",
       "  </thead>\n",
       "  <tbody>\n",
       "    <tr>\n",
       "      <th>0</th>\n",
       "      <td>39</td>\n",
       "      <td>77516</td>\n",
       "      <td>13</td>\n",
       "      <td>2174</td>\n",
       "      <td>0</td>\n",
       "      <td>40</td>\n",
       "      <td>0.0</td>\n",
       "      <td>0</td>\n",
       "      <td>1</td>\n",
       "    </tr>\n",
       "    <tr>\n",
       "      <th>1</th>\n",
       "      <td>50</td>\n",
       "      <td>83311</td>\n",
       "      <td>13</td>\n",
       "      <td>0</td>\n",
       "      <td>0</td>\n",
       "      <td>13</td>\n",
       "      <td>0.0</td>\n",
       "      <td>0</td>\n",
       "      <td>1</td>\n",
       "    </tr>\n",
       "    <tr>\n",
       "      <th>2</th>\n",
       "      <td>38</td>\n",
       "      <td>215646</td>\n",
       "      <td>9</td>\n",
       "      <td>0</td>\n",
       "      <td>0</td>\n",
       "      <td>40</td>\n",
       "      <td>0.0</td>\n",
       "      <td>0</td>\n",
       "      <td>1</td>\n",
       "    </tr>\n",
       "    <tr>\n",
       "      <th>3</th>\n",
       "      <td>53</td>\n",
       "      <td>234721</td>\n",
       "      <td>7</td>\n",
       "      <td>0</td>\n",
       "      <td>0</td>\n",
       "      <td>40</td>\n",
       "      <td>0.0</td>\n",
       "      <td>0</td>\n",
       "      <td>1</td>\n",
       "    </tr>\n",
       "    <tr>\n",
       "      <th>4</th>\n",
       "      <td>28</td>\n",
       "      <td>338409</td>\n",
       "      <td>13</td>\n",
       "      <td>0</td>\n",
       "      <td>0</td>\n",
       "      <td>40</td>\n",
       "      <td>0.0</td>\n",
       "      <td>1</td>\n",
       "      <td>0</td>\n",
       "    </tr>\n",
       "  </tbody>\n",
       "</table>\n",
       "</div>"
      ],
      "text/plain": [
       "   age  fnlwgt  education-num  capital-gain  capital-loss  hours-per-week  \\\n",
       "0   39   77516             13          2174             0              40   \n",
       "1   50   83311             13             0             0              13   \n",
       "2   38  215646              9             0             0              40   \n",
       "3   53  234721              7             0             0              40   \n",
       "4   28  338409             13             0             0              40   \n",
       "\n",
       "   salary  sex_ Female  sex_ Male  \n",
       "0     0.0            0          1  \n",
       "1     0.0            0          1  \n",
       "2     0.0            0          1  \n",
       "3     0.0            0          1  \n",
       "4     0.0            1          0  "
      ]
     },
     "execution_count": 214,
     "metadata": {},
     "output_type": "execute_result"
    }
   ],
   "source": [
    "x.head()\n"
   ]
  },
  {
   "cell_type": "code",
   "execution_count": 215,
   "metadata": {},
   "outputs": [
    {
     "data": {
      "text/plain": [
       "[array([' <=50K.', ' >50K.'], dtype=object)]"
      ]
     },
     "execution_count": 215,
     "metadata": {},
     "output_type": "execute_result"
    }
   ],
   "source": [
    "enc.categories_\n"
   ]
  },
  {
   "cell_type": "code",
   "execution_count": 216,
   "metadata": {},
   "outputs": [
    {
     "data": {
      "text/html": [
       "<div>\n",
       "<style scoped>\n",
       "    .dataframe tbody tr th:only-of-type {\n",
       "        vertical-align: middle;\n",
       "    }\n",
       "\n",
       "    .dataframe tbody tr th {\n",
       "        vertical-align: top;\n",
       "    }\n",
       "\n",
       "    .dataframe thead th {\n",
       "        text-align: right;\n",
       "    }\n",
       "</style>\n",
       "<table border=\"1\" class=\"dataframe\">\n",
       "  <thead>\n",
       "    <tr style=\"text-align: right;\">\n",
       "      <th></th>\n",
       "      <th>age</th>\n",
       "      <th>fnlwgt</th>\n",
       "      <th>education-num</th>\n",
       "      <th>capital-gain</th>\n",
       "      <th>capital-loss</th>\n",
       "      <th>hours-per-week</th>\n",
       "      <th>salary</th>\n",
       "      <th>Female</th>\n",
       "      <th>Male</th>\n",
       "    </tr>\n",
       "  </thead>\n",
       "  <tbody>\n",
       "    <tr>\n",
       "      <th>0</th>\n",
       "      <td>25</td>\n",
       "      <td>226802</td>\n",
       "      <td>7</td>\n",
       "      <td>0</td>\n",
       "      <td>0</td>\n",
       "      <td>40</td>\n",
       "      <td>0.0</td>\n",
       "      <td>0.0</td>\n",
       "      <td>1.0</td>\n",
       "    </tr>\n",
       "    <tr>\n",
       "      <th>1</th>\n",
       "      <td>38</td>\n",
       "      <td>89814</td>\n",
       "      <td>9</td>\n",
       "      <td>0</td>\n",
       "      <td>0</td>\n",
       "      <td>50</td>\n",
       "      <td>0.0</td>\n",
       "      <td>0.0</td>\n",
       "      <td>1.0</td>\n",
       "    </tr>\n",
       "    <tr>\n",
       "      <th>2</th>\n",
       "      <td>28</td>\n",
       "      <td>336951</td>\n",
       "      <td>12</td>\n",
       "      <td>0</td>\n",
       "      <td>0</td>\n",
       "      <td>40</td>\n",
       "      <td>1.0</td>\n",
       "      <td>0.0</td>\n",
       "      <td>1.0</td>\n",
       "    </tr>\n",
       "    <tr>\n",
       "      <th>3</th>\n",
       "      <td>44</td>\n",
       "      <td>160323</td>\n",
       "      <td>10</td>\n",
       "      <td>7688</td>\n",
       "      <td>0</td>\n",
       "      <td>40</td>\n",
       "      <td>1.0</td>\n",
       "      <td>0.0</td>\n",
       "      <td>1.0</td>\n",
       "    </tr>\n",
       "    <tr>\n",
       "      <th>4</th>\n",
       "      <td>18</td>\n",
       "      <td>103497</td>\n",
       "      <td>10</td>\n",
       "      <td>0</td>\n",
       "      <td>0</td>\n",
       "      <td>30</td>\n",
       "      <td>0.0</td>\n",
       "      <td>1.0</td>\n",
       "      <td>0.0</td>\n",
       "    </tr>\n",
       "  </tbody>\n",
       "</table>\n",
       "</div>"
      ],
      "text/plain": [
       "   age  fnlwgt  education-num  capital-gain  capital-loss  hours-per-week  \\\n",
       "0   25  226802              7             0             0              40   \n",
       "1   38   89814              9             0             0              50   \n",
       "2   28  336951             12             0             0              40   \n",
       "3   44  160323             10          7688             0              40   \n",
       "4   18  103497             10             0             0              30   \n",
       "\n",
       "   salary   Female   Male  \n",
       "0     0.0      0.0    1.0  \n",
       "1     0.0      0.0    1.0  \n",
       "2     1.0      0.0    1.0  \n",
       "3     1.0      0.0    1.0  \n",
       "4     0.0      1.0    0.0  "
      ]
     },
     "execution_count": 216,
     "metadata": {},
     "output_type": "execute_result"
    }
   ],
   "source": [
    "xt.head()\n"
   ]
  },
  {
   "cell_type": "code",
   "execution_count": 217,
   "metadata": {},
   "outputs": [],
   "source": [
    "from sklearn.tree import DecisionTreeClassifier\n",
    "from sklearn.ensemble import RandomForestClassifier\n",
    "from sklearn.ensemble import GradientBoostingClassifier\n"
   ]
  },
  {
   "cell_type": "markdown",
   "metadata": {},
   "source": [
    "#### Choose the model of your preference: DecisionTree or RandomForest"
   ]
  },
  {
   "cell_type": "code",
   "execution_count": 218,
   "metadata": {},
   "outputs": [],
   "source": [
    "model = RandomForestClassifier(criterion='entropy')\n"
   ]
  },
  {
   "cell_type": "code",
   "execution_count": 219,
   "metadata": {},
   "outputs": [],
   "source": [
    "model = DecisionTreeClassifier(criterion='entropy', max_depth=None)\n"
   ]
  },
  {
   "cell_type": "code",
   "execution_count": 220,
   "metadata": {},
   "outputs": [
    {
     "data": {
      "text/plain": [
       "DecisionTreeClassifier(criterion='entropy')"
      ]
     },
     "execution_count": 220,
     "metadata": {},
     "output_type": "execute_result"
    }
   ],
   "source": [
    "model.fit(x.drop(['fnlwgt','salary'], axis=1), x.salary)\n"
   ]
  },
  {
   "cell_type": "code",
   "execution_count": 221,
   "metadata": {},
   "outputs": [
    {
     "data": {
      "text/plain": [
       "8331"
      ]
     },
     "execution_count": 221,
     "metadata": {},
     "output_type": "execute_result"
    }
   ],
   "source": [
    "model.tree_.node_count\n"
   ]
  },
  {
   "cell_type": "code",
   "execution_count": 222,
   "metadata": {},
   "outputs": [
    {
     "data": {
      "text/plain": [
       "[('age', 0.3235601358938428),\n",
       " ('education-num', 0.16088618730446752),\n",
       " ('capital-gain', 0.22743335847003868),\n",
       " ('capital-loss', 0.07927833851211612),\n",
       " ('hours-per-week', 0.15328552389207126),\n",
       " ('sex_ Female', 0.021479698431940683),\n",
       " ('sex_ Male', 0.03407675749552305)]"
      ]
     },
     "execution_count": 222,
     "metadata": {},
     "output_type": "execute_result"
    }
   ],
   "source": [
    "list(zip(x.drop(['fnlwgt','salary'], axis=1).columns, model.feature_importances_))\n"
   ]
  },
  {
   "cell_type": "code",
   "execution_count": 223,
   "metadata": {},
   "outputs": [
    {
     "data": {
      "text/plain": [
       "[('age', 0.3235601358938428),\n",
       " ('education-num', 0.16088618730446752),\n",
       " ('capital-gain', 0.22743335847003868),\n",
       " ('capital-loss', 0.07927833851211612),\n",
       " ('hours-per-week', 0.15328552389207126),\n",
       " ('sex_ Female', 0.021479698431940683),\n",
       " ('sex_ Male', 0.03407675749552305)]"
      ]
     },
     "execution_count": 223,
     "metadata": {},
     "output_type": "execute_result"
    }
   ],
   "source": [
    "list(zip(x.drop(['fnlwgt','salary'], axis=1).columns, model.feature_importances_))\n"
   ]
  },
  {
   "cell_type": "code",
   "execution_count": 224,
   "metadata": {},
   "outputs": [
    {
     "data": {
      "text/html": [
       "<div>\n",
       "<style scoped>\n",
       "    .dataframe tbody tr th:only-of-type {\n",
       "        vertical-align: middle;\n",
       "    }\n",
       "\n",
       "    .dataframe tbody tr th {\n",
       "        vertical-align: top;\n",
       "    }\n",
       "\n",
       "    .dataframe thead th {\n",
       "        text-align: right;\n",
       "    }\n",
       "</style>\n",
       "<table border=\"1\" class=\"dataframe\">\n",
       "  <thead>\n",
       "    <tr style=\"text-align: right;\">\n",
       "      <th></th>\n",
       "      <th>age</th>\n",
       "      <th>education-num</th>\n",
       "      <th>capital-gain</th>\n",
       "      <th>capital-loss</th>\n",
       "      <th>hours-per-week</th>\n",
       "      <th>sex_ Female</th>\n",
       "      <th>sex_ Male</th>\n",
       "    </tr>\n",
       "  </thead>\n",
       "  <tbody>\n",
       "    <tr>\n",
       "      <th>0</th>\n",
       "      <td>39</td>\n",
       "      <td>13</td>\n",
       "      <td>2174</td>\n",
       "      <td>0</td>\n",
       "      <td>40</td>\n",
       "      <td>0</td>\n",
       "      <td>1</td>\n",
       "    </tr>\n",
       "    <tr>\n",
       "      <th>1</th>\n",
       "      <td>50</td>\n",
       "      <td>13</td>\n",
       "      <td>0</td>\n",
       "      <td>0</td>\n",
       "      <td>13</td>\n",
       "      <td>0</td>\n",
       "      <td>1</td>\n",
       "    </tr>\n",
       "    <tr>\n",
       "      <th>2</th>\n",
       "      <td>38</td>\n",
       "      <td>9</td>\n",
       "      <td>0</td>\n",
       "      <td>0</td>\n",
       "      <td>40</td>\n",
       "      <td>0</td>\n",
       "      <td>1</td>\n",
       "    </tr>\n",
       "    <tr>\n",
       "      <th>3</th>\n",
       "      <td>53</td>\n",
       "      <td>7</td>\n",
       "      <td>0</td>\n",
       "      <td>0</td>\n",
       "      <td>40</td>\n",
       "      <td>0</td>\n",
       "      <td>1</td>\n",
       "    </tr>\n",
       "    <tr>\n",
       "      <th>4</th>\n",
       "      <td>28</td>\n",
       "      <td>13</td>\n",
       "      <td>0</td>\n",
       "      <td>0</td>\n",
       "      <td>40</td>\n",
       "      <td>1</td>\n",
       "      <td>0</td>\n",
       "    </tr>\n",
       "  </tbody>\n",
       "</table>\n",
       "</div>"
      ],
      "text/plain": [
       "   age  education-num  capital-gain  capital-loss  hours-per-week  \\\n",
       "0   39             13          2174             0              40   \n",
       "1   50             13             0             0              13   \n",
       "2   38              9             0             0              40   \n",
       "3   53              7             0             0              40   \n",
       "4   28             13             0             0              40   \n",
       "\n",
       "   sex_ Female  sex_ Male  \n",
       "0            0          1  \n",
       "1            0          1  \n",
       "2            0          1  \n",
       "3            0          1  \n",
       "4            1          0  "
      ]
     },
     "execution_count": 224,
     "metadata": {},
     "output_type": "execute_result"
    }
   ],
   "source": [
    "x.drop(['fnlwgt','salary'], axis=1).head()\n"
   ]
  },
  {
   "cell_type": "code",
   "execution_count": 225,
   "metadata": {},
   "outputs": [
    {
     "data": {
      "text/plain": [
       "{'sex_ Female', 'sex_ Male'}"
      ]
     },
     "execution_count": 225,
     "metadata": {},
     "output_type": "execute_result"
    }
   ],
   "source": [
    "set(x.columns) - set(xt.columns)\n"
   ]
  },
  {
   "cell_type": "code",
   "execution_count": 226,
   "metadata": {},
   "outputs": [
    {
     "data": {
      "text/plain": [
       "['age',\n",
       " 'fnlwgt',\n",
       " 'education-num',\n",
       " 'capital-gain',\n",
       " 'capital-loss',\n",
       " 'hours-per-week',\n",
       " 'sex_ Female',\n",
       " 'sex_ Male']"
      ]
     },
     "execution_count": 226,
     "metadata": {},
     "output_type": "execute_result"
    }
   ],
   "source": [
    "list(x.drop('salary', axis=1).columns)\n"
   ]
  },
  {
   "cell_type": "code",
   "execution_count": 227,
   "metadata": {},
   "outputs": [
    {
     "name": "stderr",
     "output_type": "stream",
     "text": [
      "C:\\Users\\Michael\\anaconda3\\InstallationMain\\lib\\site-packages\\sklearn\\base.py:493: FutureWarning: The feature names should match those that were passed during fit. Starting version 1.2, an error will be raised.\n",
      "Feature names unseen at fit time:\n",
      "-  Female\n",
      "-  Male\n",
      "Feature names seen at fit time, yet now missing:\n",
      "- sex_ Female\n",
      "- sex_ Male\n",
      "\n",
      "  warnings.warn(message, FutureWarning)\n"
     ]
    }
   ],
   "source": [
    "    predictions = model.predict(xt.drop(['fnlwgt','salary'], axis=1))\n",
    "    predictionsx = model.predict(x.drop(['fnlwgt','salary'], axis=1))\n",
    "    "
   ]
  },
  {
   "cell_type": "code",
   "execution_count": 228,
   "metadata": {},
   "outputs": [],
   "source": [
    "from sklearn.metrics import (\n",
    "    accuracy_score, \n",
    "    classification_report, \n",
    "    confusion_matrix, auc, roc_curve\n",
    ")\n"
   ]
  },
  {
   "cell_type": "code",
   "execution_count": 229,
   "metadata": {},
   "outputs": [
    {
     "data": {
      "text/plain": [
       "0.8202198882132548"
      ]
     },
     "execution_count": 229,
     "metadata": {},
     "output_type": "execute_result"
    }
   ],
   "source": [
    "accuracy_score(xt.salary, predictions)\n"
   ]
  },
  {
   "cell_type": "code",
   "execution_count": 230,
   "metadata": {},
   "outputs": [
    {
     "data": {
      "text/plain": [
       "0.8202198882132548"
      ]
     },
     "execution_count": 230,
     "metadata": {},
     "output_type": "execute_result"
    }
   ],
   "source": [
    "accuracy_score(xt.salary, predictions)\n"
   ]
  },
  {
   "cell_type": "code",
   "execution_count": 231,
   "metadata": {},
   "outputs": [
    {
     "data": {
      "text/plain": [
       "array([[11447,   988],\n",
       "       [ 1939,  1907]], dtype=int64)"
      ]
     },
     "execution_count": 231,
     "metadata": {},
     "output_type": "execute_result"
    }
   ],
   "source": [
    "confusion_matrix(xt.salary, predictions)\n"
   ]
  },
  {
   "cell_type": "code",
   "execution_count": 232,
   "metadata": {},
   "outputs": [
    {
     "name": "stdout",
     "output_type": "stream",
     "text": [
      "              precision    recall  f1-score   support\n",
      "\n",
      "         0.0       0.86      0.92      0.89     12435\n",
      "         1.0       0.66      0.50      0.57      3846\n",
      "\n",
      "    accuracy                           0.82     16281\n",
      "   macro avg       0.76      0.71      0.73     16281\n",
      "weighted avg       0.81      0.82      0.81     16281\n",
      "\n"
     ]
    }
   ],
   "source": [
    "confusion_matrix(xt.salary, predictions)\n"
   ]
  },
  {
   "cell_type": "code",
   "execution_count": 233,
   "metadata": {},
   "outputs": [
    {
     "name": "stdout",
     "output_type": "stream",
     "text": [
      "              precision    recall  f1-score   support\n",
      "\n",
      "         0.0       0.86      0.92      0.89     12435\n",
      "         1.0       0.66      0.50      0.57      3846\n",
      "\n",
      "    accuracy                           0.82     16281\n",
      "   macro avg       0.76      0.71      0.73     16281\n",
      "weighted avg       0.81      0.82      0.81     16281\n",
      "\n"
     ]
    }
   ],
   "source": [
    "print(classification_report(xt.salary, predictions))\n"
   ]
  },
  {
   "cell_type": "code",
   "execution_count": 234,
   "metadata": {},
   "outputs": [
    {
     "data": {
      "text/plain": [
       "0.8955806025613464"
      ]
     },
     "execution_count": 234,
     "metadata": {},
     "output_type": "execute_result"
    }
   ],
   "source": [
    "accuracy_score(x.salary, predictionsx)\n"
   ]
  },
  {
   "cell_type": "code",
   "execution_count": 235,
   "metadata": {},
   "outputs": [
    {
     "data": {
      "text/plain": [
       "array([[24097,   623],\n",
       "       [ 2777,  5064]], dtype=int64)"
      ]
     },
     "execution_count": 235,
     "metadata": {},
     "output_type": "execute_result"
    }
   ],
   "source": [
    "confusion_matrix(x.salary, predictionsx)\n"
   ]
  },
  {
   "cell_type": "code",
   "execution_count": 236,
   "metadata": {},
   "outputs": [
    {
     "name": "stdout",
     "output_type": "stream",
     "text": [
      "              precision    recall  f1-score   support\n",
      "\n",
      "         0.0       0.90      0.97      0.93     24720\n",
      "         1.0       0.89      0.65      0.75      7841\n",
      "\n",
      "    accuracy                           0.90     32561\n",
      "   macro avg       0.89      0.81      0.84     32561\n",
      "weighted avg       0.90      0.90      0.89     32561\n",
      "\n"
     ]
    }
   ],
   "source": [
    "print(classification_report(x.salary, predictionsx))\n"
   ]
  },
  {
   "cell_type": "code",
   "execution_count": 237,
   "metadata": {
    "scrolled": true
   },
   "outputs": [
    {
     "name": "stdout",
     "output_type": "stream",
     "text": [
      "              precision    recall  f1-score   support\n",
      "\n",
      "         0.0       0.90      0.97      0.93     24720\n",
      "         1.0       0.89      0.65      0.75      7841\n",
      "\n",
      "    accuracy                           0.90     32561\n",
      "   macro avg       0.89      0.81      0.84     32561\n",
      "weighted avg       0.90      0.90      0.89     32561\n",
      "\n"
     ]
    }
   ],
   "source": [
    "print(classification_report(x.salary, predictionsx))\n"
   ]
  },
  {
   "cell_type": "markdown",
   "metadata": {},
   "source": [
    "# For the following use the above `adult` dataset. "
   ]
  },
  {
   "cell_type": "markdown",
   "metadata": {},
   "source": [
    "# 1. Show the RandomForest outperforms the DecisionTree for a fixed `max_depth` by training using the train set and calculate `precision`, `recall`, `f1`, `confusion matrix` on golden-test set. Start with only numerical features/columns. (age, education-num, capital-gain, capital-loss, hours-per-week) "
   ]
  },
  {
   "cell_type": "code",
   "execution_count": 246,
   "metadata": {},
   "outputs": [
    {
     "name": "stdout",
     "output_type": "stream",
     "text": [
      "DecisionTree Evaluation:\n",
      "Precision: 0.7787284848145027\n",
      "Recall: 0.697490382124332\n",
      "F1-Score: 0.7225636221392884\n",
      "Confusion Matrix:\n",
      "[[11724   711]\n",
      " [ 2107  1739]]\n",
      "Random Forest Evaluation:\n",
      "Precision: 0.8109770725267429\n",
      "Recall: 0.705891384026893\n",
      "F1-Score: 0.7360758196650257\n",
      "Confusion Matrix:\n",
      "[[11920   515]\n",
      " [ 2103  1743]]\n"
     ]
    }
   ],
   "source": [
    "import pandas as pd\n",
    "from sklearn import preprocessing\n",
    "from sklearn.tree import DecisionTreeClassifier\n",
    "from sklearn.ensemble import RandomForestClassifier\n",
    "from sklearn.metrics import precision_score, recall_score, f1_score, confusion_matrix\n",
    "\n",
    "#Transform salary column by tidying up the data (removing impurities related to the string)\n",
    "df['salary'] = df['salary'].astype(str).str.strip().str.replace('\\.', '', regex=True)\n",
    "golden['salary'] = golden['salary'].astype(str).str.strip().str.replace('\\.', '', regex=True)\n",
    "\n",
    "#Apply OrdinalEncoder to the salary column\n",
    "enc = preprocessing.OrdinalEncoder()\n",
    "enc.fit(df[['salary']])\n",
    "df['salary'] = enc.transform(df[['salary']])\n",
    "golden['salary'] = enc.transform(golden[['salary']])\n",
    "\n",
    "#Apply OneHotEncoder for categorical variables\n",
    "transform_columns = ['sex']\n",
    "OH = preprocessing.OneHotEncoder(handle_unknown=\"ignore\", sparse=False)\n",
    "OH.fit(df[transform_columns])\n",
    "trans_train = OH.transform(df[transform_columns])\n",
    "trans_test = OH.transform(golden[transform_columns])\n",
    "new_cols = OH.get_feature_names_out(transform_columns)\n",
    "properTrans_train = pd.DataFrame(trans_train, columns=new_cols)\n",
    "properTrans_test = pd.DataFrame(trans_test, columns=new_cols)\n",
    "\n",
    "#Prepare datasets by concatenate + defining categorical columns\n",
    "x = pd.concat([df.drop(transform_columns, axis=1), properTrans_train], axis=1)\n",
    "xt = pd.concat([golden.drop(transform_columns, axis=1), properTrans_test], axis=1)\n",
    "categories = ['workclass', 'education', 'marital-status', 'occupation', 'relationship', 'race', 'native-country', 'fnlwgt']\n",
    "\n",
    "#Define x dataframe and xt dataframe + defining numerical columns\n",
    "x = x.drop(categories, axis=1)\n",
    "xt = xt.drop(categories, axis=1)\n",
    "actual_numbers = ['age', 'education-num', 'capital-gain', 'capital-loss', 'hours-per-week']\n",
    "\n",
    "#Define train/test split\n",
    "xtrain = x[actual_numbers]\n",
    "ytrain = x['salary']\n",
    "ptest = xt[actual_numbers]\n",
    "ytest = xt['salary']\n",
    "\n",
    "#Define DecisionTree model by setting up max_depth_setting and training the model on the proper dataframes + obtain metrics\n",
    "originalDecisionTree = DecisionTreeClassifier(criterion='entropy', max_depth=max_depth_setting)\n",
    "max_depth_setting = 15\n",
    "originalDecisionTree.fit(xtrain, ytrain)\n",
    "originalDecisionTree_pred = originalDecisionTree.predict(ptest)\n",
    "originalDecisionTreeprec = precision_score(ytest, originalDecisionTree_pred, average='macro')\n",
    "originalDecisionTreerecall = recall_score(ytest, originalDecisionTree_pred, average='macro')\n",
    "originalDecisionTreef1 = f1_score(ytest, originalDecisionTree_pred, average='macro')\n",
    "originalDecisionTreeconfmatrix = confusion_matrix(ytest, originalDecisionTree_pred)\n",
    "\n",
    "#Define RandomForest model by training the model on the proper dataframes + obtain metrics\n",
    "originalRandomForest = RandomForestClassifier(criterion='entropy', max_depth=max_depth_setting)\n",
    "max_depth_setting = 15\n",
    "originalRandomForest.fit(xtrain, ytrain)\n",
    "originalRandomForest_pred = originalRandomForest.predict(ptest)\n",
    "originalRandomForestprec = precision_score(ytest, originalRandomForest_pred, average='macro')\n",
    "originalRandomForestrecall = recall_score(ytest, originalRandomForest_pred, average='macro')\n",
    "originalRandomForestf1 = f1_score(ytest, originalRandomForest_pred, average='macro')\n",
    "originalRandomForestconfmatrix = confusion_matrix(ytest, originalRandomForest_pred)\n",
    "\n",
    "#DecisionTree metrics\n",
    "print(\"DecisionTree Evaluation:\")\n",
    "print(f\"Precision: {originalDecisionTreeprec}\")\n",
    "print(f\"Recall: {originalDecisionTreerecall}\")\n",
    "print(f\"F1-Score: {originalDecisionTreef1}\")\n",
    "print(\"Confusion Matrix:\")\n",
    "print(originalDecisionTreeconfmatrix)\n",
    "\n",
    "#RandomForest metrics\n",
    "print(\"Random Forest Evaluation:\")\n",
    "print(f\"Precision: {originalRandomForestprec}\")\n",
    "print(f\"Recall: {originalRandomForestrecall}\")\n",
    "print(f\"F1-Score: {originalRandomForestf1}\")\n",
    "print(\"Confusion Matrix:\")\n",
    "print(originalRandomForestconfmatrix)\n"
   ]
  },
  {
   "cell_type": "code",
   "execution_count": 247,
   "metadata": {},
   "outputs": [
    {
     "name": "stdout",
     "output_type": "stream",
     "text": [
      "In the information presented above, The RandomForest model seems to be performing better when compared to the DecisionTree. It has higher values associated with Precision, this is evident in the confusion matrix. The difference between the two models with regards to F1 score and recall are fairly small, with the DecisionTree model sometimes having higher recall/F1 scores relative to the RandomForest model. This particular output showcases higher precision, recall, F1 values for RandomForest.\n"
     ]
    }
   ],
   "source": [
    "print(\"In the information presented above, The RandomForest model seems to be performing better when compared to the DecisionTree. It has higher values associated with Precision, this is evident in the confusion matrix. The difference between the two models with regards to F1 score and recall are fairly small, with the DecisionTree model sometimes having higher recall/F1 scores relative to the RandomForest model. This particular output showcases higher precision, recall, F1 values for RandomForest.\")"
   ]
  },
  {
   "cell_type": "markdown",
   "metadata": {},
   "source": [
    "# 2. Use a RandomForest or DecisionTree and the `adult` dataset, systematically add new columns, one by one, that are non-numerical but converted using the feature-extraction techniques we learned. Using the golden-test set show [`precision`, `recall`, `f1`, `confusion matrix`] for each additional feature added."
   ]
  },
  {
   "cell_type": "code",
   "execution_count": 248,
   "metadata": {},
   "outputs": [
    {
     "name": "stdout",
     "output_type": "stream",
     "text": [
      "Random Forest Evaluation (First Model):\n",
      "Precision: 0.8143845257484501\n",
      "Recall: 0.7119212102621619\n",
      "F1-Score: 0.7422005474065758\n",
      "Confusion Matrix:\n",
      "[[11918   517]\n",
      " [ 2056  1790]]\n",
      "\n",
      "Random Forest Evaluation (Second Model):\n",
      "Precision: 0.8372118866514666\n",
      "Recall: 0.7465669531485724\n",
      "F1-Score: 0.7769227918160979\n",
      "Confusion Matrix:\n",
      "[[11939   496]\n",
      " [ 1796  2050]]\n",
      "\n",
      "Random Forest Evaluation (Third Model):\n",
      "Precision: 0.8347740279675124\n",
      "Recall: 0.752238880870072\n",
      "F1-Score: 0.7809542498174833\n",
      "Confusion Matrix:\n",
      "[[11899   536]\n",
      " [ 1740  2106]]\n"
     ]
    }
   ],
   "source": [
    "import pandas as pd\n",
    "from sklearn import preprocessing\n",
    "from sklearn.tree import DecisionTreeClassifier\n",
    "from sklearn.ensemble import RandomForestClassifier\n",
    "from sklearn.metrics import precision_score, recall_score, f1_score, confusion_matrix\n",
    "\n",
    "#Encoding/Transforming native country + sex\n",
    "\n",
    "#Clean salary column by tidying up the properties of the string\n",
    "df['salary'] = df['salary'].astype(str).str.strip().str.replace('\\.', '', regex=True)\n",
    "golden['salary'] = golden['salary'].astype(str).str.strip().str.replace('\\.', '', regex=True)\n",
    "\n",
    "#Apply OrdinalEncoder to the salary column\n",
    "enc = preprocessing.OrdinalEncoder()\n",
    "enc.fit(df[['salary']])\n",
    "df['salary'] = enc.transform(df[['salary']])\n",
    "golden['salary'] = enc.transform(golden[['salary']])\n",
    "\n",
    "#Define columns to transform + conduct OneHotEncoder for columns specified for transformation\n",
    "transform_columns = ['sex', 'native-country']\n",
    "OH2 = preprocessing.OneHotEncoder(handle_unknown=\"ignore\", sparse=False)\n",
    "OH2.fit(df[transform_columns])\n",
    "\n",
    "#Transformation of the columns + production of dataframe with transformed values\n",
    "transformed_train = OH2.transform(df[transform_columns])\n",
    "transformed_test = OH2.transform(golden[transform_columns])\n",
    "new_cols = OH2.get_feature_names_out(transform_columns)\n",
    "properTrans_train1 = pd.DataFrame(transformed_train, columns=new_cols)\n",
    "properTrans_test1 = pd.DataFrame(transformed_test, columns=new_cols)\n",
    "\n",
    "#Prepare final datasets by concatenating numerical features with encoded categorical features\n",
    "x = pd.concat([df.drop(transform_columns, axis=1), properTrans_train1], axis=1)\n",
    "xt = pd.concat([golden.drop(transform_columns, axis=1), properTrans_test1], axis=1)\n",
    "\n",
    "#Specify columns to exclude (non-numerical and not transformed)\n",
    "categories_1 = ['workclass', 'education', 'marital-status', 'occupation', 'relationship', 'race', 'fnlwgt']\n",
    "\n",
    "#Define dataframes properties for RandomForest model\n",
    "x = x.drop(categories_1 + ['salary'], axis=1)\n",
    "xt = xt.drop(categories_1 + ['salary'], axis=1)\n",
    "\n",
    "#Define RandomForest model + prediction\n",
    "V1RandomForest = RandomForestClassifier(criterion='entropy', max_depth=max_depth_setting)\n",
    "max_depth_setting = 15\n",
    "V1RandomForest.fit(x, df['salary'])\n",
    "V1RandomForestpred = V1RandomForest.predict(xt)\n",
    "\n",
    "#V1RandomForest model evaluation\n",
    "V1RandomForestprec = precision_score(golden['salary'], V1RandomForestpred, average='macro')\n",
    "V1RandomForestrecall = recall_score(golden['salary'], V1RandomForestpred, average='macro')\n",
    "V1RandomForestf1 = f1_score(golden['salary'], V1RandomForestpred, average='macro')\n",
    "V1RandomForestconfmatrix = confusion_matrix(golden['salary'], V1RandomForestpred)\n",
    "\n",
    "#############################################################################\n",
    "#Encoding/Transforming native country + sex + marital-status\n",
    "\n",
    "#Define columns to transform + conduct OneHotEncoder for columns specified for transformation\n",
    "transform_columns2 = ['sex', 'native-country', 'marital-status']\n",
    "OH3 = preprocessing.OneHotEncoder(handle_unknown=\"ignore\", sparse=False)\n",
    "OH3.fit(df[transform_columns2])\n",
    "\n",
    "#Transformation of the columns + production of dataframe with transformed values\n",
    "transformed_train2 = OH3.transform(df[transform_columns2])\n",
    "transformed_test2 = OH3.transform(golden[transform_columns2])\n",
    "new_cols2 = OH3.get_feature_names_out(transform_columns2)\n",
    "properTrans_train2 = pd.DataFrame(transformed_train2, columns=new_cols2)\n",
    "properTrans_test2 = pd.DataFrame(transformed_test2, columns=new_cols2)\n",
    "\n",
    "#Prepare final datasets by concatenating numerical features with encoded categorical features\n",
    "x2 = pd.concat([df.drop(transform_columns2, axis=1), properTrans_train2], axis=1)\n",
    "xt2 = pd.concat([golden.drop(transform_columns2, axis=1), properTrans_test2], axis=1)\n",
    "\n",
    "#Specify columns to exclude (non-numerical and not transformed)\n",
    "categories_2 = ['workclass', 'education', 'occupation', 'relationship', 'race', 'fnlwgt']\n",
    "\n",
    "#Define dataframes properties for RandomForest model\n",
    "x2 = x2.drop(categories_2 + ['salary'], axis=1)\n",
    "xt2 = xt2.drop(categories_2 + ['salary'], axis=1)\n",
    "\n",
    "#Define RandomForest model + prediction\n",
    "V2RandomForest = RandomForestClassifier(criterion='entropy', max_depth=max_depth_setting)\n",
    "max_depth_setting = 15\n",
    "V2RandomForest.fit(x2, df['salary'])\n",
    "V2RandomForestpred = V2RandomForest.predict(xt2)\n",
    "\n",
    "#V2RandomForest model evaluation\n",
    "V2RandomForestprec = precision_score(golden['salary'], V2RandomForestpred, average='macro')\n",
    "V2RandomForestrecall = recall_score(golden['salary'], V2RandomForestpred, average='macro')\n",
    "V2RandomForestf1 = f1_score(golden['salary'], V2RandomForestpred, average='macro')\n",
    "V2RandomForestconfmatrix = confusion_matrix(golden['salary'], V2RandomForestpred)\n",
    "\n",
    "######################################################################################\n",
    "#Encoding/Transforming native country + sex + marital-status + working class\n",
    "\n",
    "#Define columns to transform + conduct OneHotEncoder for columns specified for transformation\n",
    "transform_columns3 = ['sex', 'native-country', 'marital-status', 'workclass']\n",
    "OH4 = preprocessing.OneHotEncoder(handle_unknown=\"ignore\", sparse=False)\n",
    "OH4.fit(df[transform_columns3])\n",
    "\n",
    "#Transformation of the columns + production of dataframe with transformed values\n",
    "transformed_train3 = OH4.transform(df[transform_columns3])\n",
    "transformed_test3 = OH4.transform(golden[transform_columns3])\n",
    "new_cols3 = OH4.get_feature_names_out(transform_columns3)\n",
    "properTrans_train3 = pd.DataFrame(transformed_train3, columns=new_cols3)\n",
    "properTrans_test3 = pd.DataFrame(transformed_test3, columns=new_cols3)\n",
    "\n",
    "#Prepare final datasets by concatenating numerical features with encoded categorical features\n",
    "x3 = pd.concat([df.drop(transform_columns3, axis=1), properTrans_train3], axis=1)\n",
    "xt3 = pd.concat([golden.drop(transform_columns3, axis=1), properTrans_test3], axis=1)\n",
    "\n",
    "#Specify columns to exclude (non-numerical and not transformed)\n",
    "non_num_columns3 = ['education', 'occupation', 'relationship', 'race', 'fnlwgt']\n",
    "\n",
    "#Define dataframes properties for RandomForest model\n",
    "x3 = x3.drop(non_num_columns3 + ['salary'], axis=1)\n",
    "xt3 = xt3.drop(non_num_columns3 + ['salary'], axis=1)\n",
    "\n",
    "#Define RandomForest model + prediction\n",
    "V3RandomForest = RandomForestClassifier(criterion='entropy', max_depth=max_depth_setting)\n",
    "max_depth_setting = 15\n",
    "V3RandomForest.fit(x3, df['salary'])\n",
    "V3RandomForestpred = V3RandomForest.predict(xt3)\n",
    "\n",
    "#V3RandomForest model evaluation\n",
    "V3RandomForestprec = precision_score(golden['salary'], V3RandomForestpred, average='macro')\n",
    "V3RandomForestrecall = recall_score(golden['salary'], V3RandomForestpred, average='macro')\n",
    "V3RandomForestf1 = f1_score(golden['salary'], V3RandomForestpred, average='macro')\n",
    "V3RandomForestconfmatrix = confusion_matrix(golden['salary'], V3RandomForestpred)\n",
    "\n",
    "#######################################################################################\n",
    "#Metrics for RandomForest Model 1\n",
    "print(\"Random Forest Evaluation (First Model):\")\n",
    "print(f\"Precision: {V1RandomForestprec}\")\n",
    "print(f\"Recall: {V1RandomForestrecall}\")\n",
    "print(f\"F1-Score: {V1RandomForestf1}\")\n",
    "print(\"Confusion Matrix:\")\n",
    "print(V1RandomForestconfmatrix)\n",
    "\n",
    "#Metrics for RandomForest Model 2\n",
    "print(\"\\nRandom Forest Evaluation (Second Model):\")\n",
    "print(f\"Precision: {V2RandomForestprec}\")\n",
    "print(f\"Recall: {V2RandomForestrecall}\")\n",
    "print(f\"F1-Score: {V2RandomForestf1}\")\n",
    "print(\"Confusion Matrix:\")\n",
    "print(V2RandomForestconfmatrix)\n",
    "\n",
    "#Metrics for RandomForest Model 3\n",
    "print(\"\\nRandom Forest Evaluation (Third Model):\")\n",
    "print(f\"Precision: {V3RandomForestprec}\")\n",
    "print(f\"Recall: {V3RandomForestrecall}\")\n",
    "print(f\"F1-Score: {V3RandomForestf1}\")\n",
    "print(\"Confusion Matrix:\")\n",
    "print(V3RandomForestconfmatrix)\n"
   ]
  },
  {
   "cell_type": "code",
   "execution_count": 250,
   "metadata": {},
   "outputs": [
    {
     "name": "stdout",
     "output_type": "stream",
     "text": [
      "For the first model, I decided to encode and transform sex and native-country variables. Once the transformation was completed, I integrated these values back to the proper dataframe and conducted a RandomTree analysis (after defining the model). Results for model 1 indicate a precision value of .814, with a recall rate of .711 and an F1 score of .742. We will use the confusion matrix values to compare and contrast against future models.For the second model, I decided to encode and transform the sex, native-country, and marital-status variables. Once again, I integrated these encoded/transformed variables back to the proper dataframe and defined my RandomTree model and conducted subsequent analysis on the model. The results from model 2 represent an improvement across precision, recall and F1 score compared to the previous model. Regarding the confusion matrix comparison vs. model 1, the second model improves with regards to reducing the frequency of false positive and negatives. For the final model, I decided to encode and transform, the sex, native-country, martial-status, and working class variables. After encoding and transforming the variables, I integrated them back to the original dataframe and once again defined my RandomTree model and conducted analysis. In comparison to model 2, model 3 achieved higher values for precision, recall, and F1 score. Additionally, it has a lower frequency count for false positive/negatives relative to the second model. Overall, I would say that Model 3 is an improvement over the initial model that I created.\n"
     ]
    }
   ],
   "source": [
    "print(\"For the first model, I decided to encode and transform sex and native-country variables. Once the transformation was completed, I integrated these values back to the proper dataframe and conducted a RandomTree analysis (after defining the model). Results for model 1 indicate a precision value of .814, with a recall rate of .711 and an F1 score of .742. We will use the confusion matrix values to compare and contrast against future models.For the second model, I decided to encode and transform the sex, native-country, and marital-status variables. Once again, I integrated these encoded/transformed variables back to the proper dataframe and defined my RandomTree model and conducted subsequent analysis on the model. The results from model 2 represent an improvement across precision, recall and F1 score compared to the previous model. Regarding the confusion matrix comparison vs. model 1, the second model improves with regards to reducing the frequency of false positive and negatives. For the final model, I decided to encode and transform, the sex, native-country, martial-status, and working class variables. After encoding and transforming the variables, I integrated them back to the original dataframe and once again defined my RandomTree model and conducted analysis. In comparison to model 2, model 3 achieved higher values for precision, recall, and F1 score. Additionally, it has a lower frequency count for false positive/negatives relative to the second model. Overall, I would say that Model 3 is an improvement over the initial model that I created.\")"
   ]
  }
 ],
 "metadata": {
  "kernelspec": {
   "display_name": "Python 3 (ipykernel)",
   "language": "python",
   "name": "python3"
  },
  "language_info": {
   "codemirror_mode": {
    "name": "ipython",
    "version": 3
   },
   "file_extension": ".py",
   "mimetype": "text/x-python",
   "name": "python",
   "nbconvert_exporter": "python",
   "pygments_lexer": "ipython3",
   "version": "3.9.13"
  }
 },
 "nbformat": 4,
 "nbformat_minor": 2
}
