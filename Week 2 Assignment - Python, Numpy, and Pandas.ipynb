{
 "cells": [
  {
   "cell_type": "code",
   "execution_count": 156,
   "metadata": {},
   "outputs": [],
   "source": [
    "import numpy as np\n",
    "import pandas as pd\n",
    "import scipy as sp"
   ]
  },
  {
   "cell_type": "code",
   "execution_count": 157,
   "metadata": {},
   "outputs": [],
   "source": [
    "%matplotlib inline\n",
    "import matplotlib.pyplot as plt\n",
    "plt.style.use('ggplot')"
   ]
  },
  {
   "cell_type": "code",
   "execution_count": 158,
   "metadata": {},
   "outputs": [
    {
     "name": "stdout",
     "output_type": "stream",
     "text": [
      "Overwriting hw_data.csv\n"
     ]
    }
   ],
   "source": [
    "%%file hw_data.csv\n",
    "id,sex,weight,height\n",
    "1,M,190,77\n",
    "2,F,120,70\n",
    "3,F,110,68\n",
    "4,M,150,72\n",
    "5,O,120,66\n",
    "6,M,120,60\n",
    "7,F,140,70"
   ]
  },
  {
   "cell_type": "markdown",
   "metadata": {},
   "source": [
    "# Python"
   ]
  },
  {
   "cell_type": "markdown",
   "metadata": {},
   "source": [
    "## 1. Finish creating the following function that takes a list and returns the average value.\n",
    "\n",
    "Add each element in the list to `total` and return `total`\n",
    "\n",
    "### DO NOT use a library function nor `sum()`"
   ]
  },
  {
   "cell_type": "code",
   "execution_count": 159,
   "metadata": {},
   "outputs": [
    {
     "data": {
      "text/plain": [
       "3.375"
      ]
     },
     "execution_count": 159,
     "metadata": {},
     "output_type": "execute_result"
    }
   ],
   "source": [
    "#I will create a function that takes the provided list and returns the average value\n",
    "def average(my_list):\n",
    "    total = 0\n",
    "    for item in my_list:\n",
    "        total += item\n",
    "    \n",
    "    return total / len(my_list)\n",
    "\n",
    "average([1,2,1,4,3,2,5,9])"
   ]
  },
  {
   "cell_type": "markdown",
   "metadata": {},
   "source": [
    "# 2. Using a Dictionary keep track of the count of numbers (or items) from a list"
   ]
  },
  {
   "cell_type": "code",
   "execution_count": 160,
   "metadata": {},
   "outputs": [
    {
     "data": {
      "text/plain": [
       "{1: 2, 2: 2, 4: 1, 3: 1, 5: 1, 9: 1}"
      ]
     },
     "execution_count": 160,
     "metadata": {},
     "output_type": "execute_result"
    }
   ],
   "source": [
    "#I will create a function that will count the numbers/items from a list (using dictionary)\n",
    "def counts(my_list):\n",
    "    counts = dict()\n",
    "    for item in my_list:\n",
    "        counts[item] = counts.get(item, 0) + 1\n",
    "    \n",
    "    return counts\n",
    "\n",
    "counts([1,2,1,4,3,2,5,9])"
   ]
  },
  {
   "cell_type": "markdown",
   "metadata": {},
   "source": [
    "## 3.  Using the `counts()` function you created above and the `.split()` function, return a dictionary of most occuring words from the following paragraph. Bonus, remove punctuation from words."
   ]
  },
  {
   "cell_type": "code",
   "execution_count": 161,
   "metadata": {},
   "outputs": [
    {
     "name": "stdout",
     "output_type": "stream",
     "text": [
      "'for': 5\n",
      "'a': 15\n",
      "'minute': 1\n",
      "'or': 2\n",
      "'two': 2\n",
      "'she': 7\n",
      "'stood': 1\n",
      "'looking': 2\n",
      "'at': 7\n",
      "'the': 34\n",
      "'house': 2\n",
      "'and': 17\n",
      "'wondering': 1\n",
      "'what': 2\n",
      "'to': 15\n",
      "'do': 1\n",
      "'next': 2\n",
      "'when': 2\n",
      "'suddenly': 1\n",
      "'footman': 6\n",
      "'in': 7\n",
      "'livery': 3\n",
      "'came': 2\n",
      "'running': 1\n",
      "'out': 5\n",
      "'of': 9\n",
      "'wood—she': 1\n",
      "'considered': 1\n",
      "'him': 3\n",
      "'be': 2\n",
      "'because': 3\n",
      "'he': 6\n",
      "'was': 8\n",
      "'otherwise': 1\n",
      "'judging': 1\n",
      "'by': 3\n",
      "'his': 5\n",
      "'face': 2\n",
      "'only': 2\n",
      "'would': 1\n",
      "'have': 1\n",
      "'called': 1\n",
      "'fish—and': 1\n",
      "'rapped': 1\n",
      "'loudly': 1\n",
      "'door': 6\n",
      "'with': 2\n",
      "'knuckles': 1\n",
      "'it': 3\n",
      "'opened': 2\n",
      "'another': 1\n",
      "'round': 1\n",
      "'large': 3\n",
      "'eyes': 2\n",
      "'like': 1\n",
      "'frog': 1\n",
      "'both': 2\n",
      "'footmen': 1\n",
      "'alice': 5\n",
      "'noticed': 1\n",
      "'had': 4\n",
      "'powdered': 1\n",
      "'hair': 1\n",
      "'that': 3\n",
      "'curled': 1\n",
      "'all': 3\n",
      "'over': 2\n",
      "'their': 3\n",
      "'heads': 1\n",
      "'felt': 1\n",
      "'very': 2\n",
      "'curious': 1\n",
      "'know': 1\n",
      "'about': 1\n",
      "'crept': 1\n",
      "'little': 2\n",
      "'way': 1\n",
      "'wood': 2\n",
      "'listen': 1\n",
      "'fishfootman': 2\n",
      "'began': 1\n",
      "'producing': 1\n",
      "'from': 2\n",
      "'under': 1\n",
      "'arm': 1\n",
      "'great': 2\n",
      "'letter': 1\n",
      "'nearly': 2\n",
      "'as': 4\n",
      "'himself': 1\n",
      "'this': 4\n",
      "'handed': 1\n",
      "'other': 2\n",
      "'saying': 1\n",
      "'solemn': 2\n",
      "'tone': 2\n",
      "'‘for': 1\n",
      "'duchess': 2\n",
      "'an': 2\n",
      "'invitation': 2\n",
      "'queen': 2\n",
      "'play': 2\n",
      "'croquet’': 2\n",
      "'frogfootman': 1\n",
      "'repeated': 2\n",
      "'same': 2\n",
      "'changing': 1\n",
      "'order': 1\n",
      "'words': 1\n",
      "'‘from': 1\n",
      "'then': 2\n",
      "'they': 1\n",
      "'bowed': 1\n",
      "'low': 1\n",
      "'curls': 1\n",
      "'got': 1\n",
      "'entangled': 1\n",
      "'together': 1\n",
      "'laughed': 1\n",
      "'so': 2\n",
      "'much': 1\n",
      "'run': 1\n",
      "'back': 1\n",
      "'into': 3\n",
      "'fear': 1\n",
      "'hearing': 1\n",
      "'her': 2\n",
      "'peeped': 1\n",
      "'gone': 1\n",
      "'sitting': 1\n",
      "'on': 4\n",
      "'ground': 1\n",
      "'near': 1\n",
      "'staring': 1\n",
      "'stupidly': 1\n",
      "'up': 3\n",
      "'sky': 2\n",
      "'went': 2\n",
      "'timidly': 1\n",
      "'knocked': 1\n",
      "'‘there’s': 1\n",
      "'no': 2\n",
      "'sort': 1\n",
      "'use': 1\n",
      "'knocking’': 2\n",
      "'said': 3\n",
      "'‘and': 1\n",
      "'reasons': 1\n",
      "'first': 1\n",
      "'i’m': 1\n",
      "'side': 1\n",
      "'you': 5\n",
      "'are': 2\n",
      "'secondly': 1\n",
      "'they’re': 1\n",
      "'making': 1\n",
      "'such': 1\n",
      "'noise': 2\n",
      "'inside': 2\n",
      "'one': 2\n",
      "'could': 2\n",
      "'possibly': 1\n",
      "'hear': 1\n",
      "'you’': 1\n",
      "'certainly': 1\n",
      "'there': 1\n",
      "'most': 1\n",
      "'extraordinary': 1\n",
      "'going': 1\n",
      "'within—a': 1\n",
      "'constant': 1\n",
      "'howling': 1\n",
      "'sneezing': 1\n",
      "'every': 1\n",
      "'now': 1\n",
      "'crash': 1\n",
      "'if': 2\n",
      "'dish': 1\n",
      "'kettle': 1\n",
      "'been': 1\n",
      "'broken': 1\n",
      "'pieces': 2\n",
      "'‘please': 1\n",
      "'then’': 1\n",
      "'‘how': 1\n",
      "'am': 2\n",
      "'i': 3\n",
      "'get': 2\n",
      "'in’': 2\n",
      "'‘there': 1\n",
      "'might': 3\n",
      "'some': 1\n",
      "'sense': 1\n",
      "'your': 1\n",
      "'without': 1\n",
      "'attending': 1\n",
      "'‘if': 1\n",
      "'we': 1\n",
      "'between': 1\n",
      "'us': 1\n",
      "'instance': 1\n",
      "'were': 1\n",
      "'knock': 1\n",
      "'let': 1\n",
      "'know’': 1\n",
      "'time': 1\n",
      "'speaking': 1\n",
      "'thought': 1\n",
      "'decidedly': 1\n",
      "'uncivil': 1\n",
      "'‘but': 1\n",
      "'perhaps': 1\n",
      "'can’t': 1\n",
      "'help': 1\n",
      "'it’': 1\n",
      "'herself': 1\n",
      "'‘his': 1\n",
      "'top': 1\n",
      "'head': 2\n",
      "'but': 1\n",
      "'any': 1\n",
      "'rate': 1\n",
      "'answer': 1\n",
      "'questions—how': 1\n",
      "'aloud': 1\n",
      "'‘i': 1\n",
      "'shall': 1\n",
      "'sit': 1\n",
      "'here’': 1\n",
      "'remarked': 1\n",
      "'‘till': 1\n",
      "'tomorrow—’': 1\n",
      "'moment': 1\n",
      "'plate': 1\n",
      "'skimming': 1\n",
      "'straight': 1\n",
      "'footman’s': 1\n",
      "'just': 1\n",
      "'grazed': 1\n",
      "'nose': 1\n",
      "'broke': 1\n",
      "'against': 1\n",
      "'trees': 1\n",
      "'behind': 1\n"
     ]
    }
   ],
   "source": [
    "import string\n",
    "\n",
    "#I will create counts() function that will analyze the instances of each item in the paragraph text. I believe the output will return a dictionary.\n",
    "def counts(my_list):\n",
    "    counts = dict()\n",
    "    for item in my_list:\n",
    "        counts[item] = counts.get(item, 0) + 1\n",
    "    return counts\n",
    "\n",
    "#As requsted for the bonus segement of this question, I will remove punctuation from the paragraph text. It will return the paragraph but without any punctuation if I am not mistaken. \n",
    "def no_punctuation(text):\n",
    "    translator = str.maketrans('', '', string.punctuation)\n",
    "    return text.translate(translator)\n",
    "\n",
    "paragraph_text = '''\n",
    "For a minute or two she stood looking at the house, and wondering what to do next, when suddenly a footman in livery came running out of the wood—(she considered him to be a footman because he was in livery: otherwise, judging by his face only, she would have called him a fish)—and rapped loudly at the door with his knuckles. It was opened by another footman in livery, with a round face, and large eyes like a frog; and both footmen, Alice noticed, had powdered hair that curled all over their heads. She felt very curious to know what it was all about, and crept a little way out of the wood to listen.\n",
    "The Fish-Footman began by producing from under his arm a great letter, nearly as large as himself, and this he handed over to the other, saying, in a solemn tone, ‘For the Duchess. An invitation from the Queen to play croquet.’ The Frog-Footman repeated, in the same solemn tone, only changing the order of the words a little, ‘From the Queen. An invitation for the Duchess to play croquet.’\n",
    "Then they both bowed low, and their curls got entangled together.\n",
    "Alice laughed so much at this, that she had to run back into the wood for fear of their hearing her; and when she next peeped out the Fish-Footman was gone, and the other was sitting on the ground near the door, staring stupidly up into the sky.\n",
    "Alice went timidly up to the door, and knocked.\n",
    "‘There’s no sort of use in knocking,’ said the Footman, ‘and that for two reasons. First, because I’m on the same side of the door as you are; secondly, because they’re making such a noise inside, no one could possibly hear you.’ And certainly there was a most extraordinary noise going on within—a constant howling and sneezing, and every now and then a great crash, as if a dish or kettle had been broken to pieces.\n",
    "‘Please, then,’ said Alice, ‘how am I to get in?’\n",
    "‘There might be some sense in your knocking,’ the Footman went on without attending to her, ‘if we had the door between us. For instance, if you were inside, you might knock, and I could let you out, you know.’ He was looking up into the sky all the time he was speaking, and this Alice thought decidedly uncivil. ‘But perhaps he can’t help it,’ she said to herself; ‘his eyes are so very nearly at the top of his head. But at any rate he might answer questions.—How am I to get in?’ she repeated, aloud.\n",
    "‘I shall sit here,’ the Footman remarked, ‘till tomorrow—’\n",
    "At this moment the door of the house opened, and a large plate came skimming out, straight at the Footman’s head: it just grazed his nose, and broke to pieces against one of the trees behind him.'''\n",
    "\n",
    "#Post-processing of the text\n",
    "normalized_text = no_punctuation(paragraph_text.lower()) #normalization to ensure that each count of the word isn't case-sensitive\n",
    "words = normalized_text.split() #returns a list of words from the text\n",
    "word_counts = counts(words) #utilizes the counts function that was created intially to obtain a count of each word\n",
    "\n",
    "#Print the results\n",
    "for word, count in word_counts.items():\n",
    "    print(f\"'{word}': {count}\")"
   ]
  },
  {
   "cell_type": "markdown",
   "metadata": {},
   "source": [
    "## 4. Read in a file using `open()` and iterated through the file line-by-line write each line from the file to a new file in a  `title()`-ized. Create your own file for input\n",
    "\n",
    "`This is the first line` ->  `This Is The First Line`\n",
    "\n",
    "Hint: There's a function to do this"
   ]
  },
  {
   "cell_type": "code",
   "execution_count": 162,
   "metadata": {},
   "outputs": [
    {
     "name": "stdout",
     "output_type": "stream",
     "text": [
      "Overwriting jhmikesample.txt\n"
     ]
    }
   ],
   "source": [
    "%%file jhmikesample.txt\n",
    "my name is michael reiderman\n",
    "i like to read and cook\n",
    "i also like listening to music\n",
    "i wish i had a dog"
   ]
  },
  {
   "cell_type": "code",
   "execution_count": 163,
   "metadata": {},
   "outputs": [
    {
     "name": "stdout",
     "output_type": "stream",
     "text": [
      "My Name Is Michael Reiderman\n",
      "I Like To Read And Cook\n",
      "I Also Like Listening To Music\n",
      "I Wish I Had A Dog\n"
     ]
    }
   ],
   "source": [
    "#Define the file path - input file that contains the original text is titled jhmikesample.txt and will be assigned the variable \"reading_file\"\n",
    "reading_file = \"jhmikesample.txt\"  \n",
    "\n",
    "#Define the file path - output file that contains the transformed text is titled jhmikenewsample.txt and will be assigned the variable \"writing_file\"\n",
    "writing_file = \"jhmikenewsample.txt\" \n",
    "\n",
    "#Open both files at the same time. \"reading_file\" is opened in reading mode while \"writing_file\" is opened in writing mode\n",
    "with open(reading_file, \"r\") as input_file, open(writing_file, \"w\") as output_file:\n",
    "    for line in input_file: #Go through each line in the reading file    \n",
    "        transformed_line = line.title() #Utilize the title() function in order to capitalize the first letter of each word across the four sentences that are present\n",
    "        output_file.write(transformed_line) #Transformed letters (lower case to upper case) will be written to the output file\n",
    "        print(transformed_line, end='') #View the transformed letters"
   ]
  },
  {
   "cell_type": "markdown",
   "metadata": {},
   "source": [
    "# Numpy"
   ]
  },
  {
   "cell_type": "markdown",
   "metadata": {},
   "source": [
    "## 1. Given a list, find the average using a numpy function. "
   ]
  },
  {
   "cell_type": "code",
   "execution_count": 164,
   "metadata": {},
   "outputs": [
    {
     "data": {
      "text/plain": [
       "3.375"
      ]
     },
     "execution_count": 164,
     "metadata": {},
     "output_type": "execute_result"
    }
   ],
   "source": [
    "#Given list\n",
    "simple_list = [1,2,1,4,3,2,5,9]\n",
    "\n",
    "#Calculate the mean of g\n",
    "average_value = np.mean(simple_list)\n",
    "\n",
    "#Print the average value of the given list\n",
    "average_value"
   ]
  },
  {
   "cell_type": "markdown",
   "metadata": {},
   "source": [
    "## 2. Given two lists of Heights and Weights of individual, calculate the BMI of those individuals, without writing a `for-loop`"
   ]
  },
  {
   "cell_type": "code",
   "execution_count": 165,
   "metadata": {},
   "outputs": [
    {
     "data": {
      "text/plain": [
       "array([29.06592681, 27.73229978, 30.73941662, 24.16326531, 26.33288875])"
      ]
     },
     "execution_count": 165,
     "metadata": {},
     "output_type": "execute_result"
    }
   ],
   "source": [
    "#Original list given (assumption here is that heights is in centimeters and weight is in kilograms). The BMI formula is defined\n",
    "#as BMI = Weight (in kilograms) / Height ^ 2 (in meters)\n",
    "heights = [174, 173, 173, 175, 171]\n",
    "weights = [88, 83, 92, 74, 77]\n",
    "\n",
    "#Create numpy arrays for heights and weights\n",
    "heights = np.array([174, 173, 173, 175, 171])\n",
    "weights = np.array([88, 83, 92, 74, 77])\n",
    "\n",
    "#Before we can calculate the BMI, we miust first obtain the variables that are required. First, we will convert heights from cm to m. We will\n",
    "#then square the heights that we just finished coverting\n",
    "cm_meters = heights / 100\n",
    "meters_squared = cm_meters ** 2\n",
    "\n",
    "#We will now calculate the BMI by dividing their weight by their respective squared height.\n",
    "bmi = weights / meters_squared\n",
    "\n",
    "#Print the BMI array\n",
    "bmi"
   ]
  },
  {
   "cell_type": "markdown",
   "metadata": {},
   "source": [
    "## 3. Create an array of length 20 filled with random values (between 0 to 1) "
   ]
  },
  {
   "cell_type": "code",
   "execution_count": 166,
   "metadata": {},
   "outputs": [
    {
     "data": {
      "text/plain": [
       "array([0.78972191, 0.75083956, 0.94949538, 0.95477119, 0.26296688,\n",
       "       0.49053968, 0.13422387, 0.60381616, 0.79197629, 0.85374614,\n",
       "       0.87880855, 0.47383821, 0.28716788, 0.00647413, 0.10610397,\n",
       "       0.15285787, 0.50764088, 0.43006694, 0.3670808 , 0.47752507])"
      ]
     },
     "execution_count": 166,
     "metadata": {},
     "output_type": "execute_result"
    }
   ],
   "source": [
    "#Generate a random array that contains 20 random values\n",
    "random_array = np.random.rand(20)\n",
    "\n",
    "#Print the random array that contains 20 random values\n",
    "random_array"
   ]
  },
  {
   "cell_type": "markdown",
   "metadata": {},
   "source": [
    "## 4. Create an array with at least 1000 random numbers from normal distributions (normal). Then, plot a histogram of these values (`plt.hist`)."
   ]
  },
  {
   "cell_type": "code",
   "execution_count": 167,
   "metadata": {},
   "outputs": [
    {
     "data": {
      "image/png": "[encoded data removed]",
      "text/plain": [
       "<Figure size 640x480 with 1 Axes>"
      ]
     },
     "metadata": {},
     "output_type": "display_data"
    }
   ],
   "source": [
    "#Generate a random array that contains 1000 random values\n",
    "random_array_2 = np.random.rand(1000)\n",
    "\n",
    "#Plot the random array \n",
    "plt.hist(random_array_2, bins=30, edgecolor='black')\n",
    "plt.title('Histogram of the 1000 random numbers')\n",
    "plt.xlabel('Value')\n",
    "plt.ylabel('Frequency')\n",
    "plt.show()"
   ]
  },
  {
   "cell_type": "markdown",
   "metadata": {},
   "source": [
    "# Pandas"
   ]
  },
  {
   "cell_type": "markdown",
   "metadata": {},
   "source": [
    "## 1. Read in a CSV () and display all the columns and their respective data types "
   ]
  },
  {
   "cell_type": "code",
   "execution_count": 168,
   "metadata": {},
   "outputs": [
    {
     "name": "stdout",
     "output_type": "stream",
     "text": [
      "id         int64\n",
      "sex       object\n",
      "weight     int64\n",
      "height     int64\n",
      "dtype: object\n"
     ]
    }
   ],
   "source": [
    "#Create the variable \"hw_data_df\" that reads the hw_data.csv \n",
    "hw_data_df = 'hw_data.csv'\n",
    "\n",
    "#Read the variable \"hw_data_df\" and convert it to a pandas dataframe\n",
    "hw_data_df_2 = pd.read_csv(hw_data_df)\n",
    "\n",
    "#Print the data contained in the hw_data_df_2 pandas dataframe\n",
    "print(hw_data_df_2.dtypes)"
   ]
  },
  {
   "cell_type": "markdown",
   "metadata": {},
   "source": [
    "## 2. Find the average weight "
   ]
  },
  {
   "cell_type": "code",
   "execution_count": 169,
   "metadata": {},
   "outputs": [
    {
     "name": "stdout",
     "output_type": "stream",
     "text": [
      "The average weight if weight column is equal to (in pounds i am assuming): 135.71428571428572\n"
     ]
    }
   ],
   "source": [
    "#Select the weight column in the \"hw_data_df_2\" dataframe and calculate the mean\n",
    "average_weight = hw_data_df_2['weight'].mean()\n",
    "\n",
    "#Print the average weight\n",
    "print(\"The average weight if weight column is equal to (in pounds i am assuming):\", average_weight)"
   ]
  },
  {
   "cell_type": "markdown",
   "metadata": {},
   "source": [
    "## 3. Find the Value Counts on column `sex` "
   ]
  },
  {
   "cell_type": "code",
   "execution_count": 170,
   "metadata": {},
   "outputs": [
    {
     "name": "stdout",
     "output_type": "stream",
     "text": [
      "M    3\n",
      "F    3\n",
      "O    1\n",
      "Name: sex, dtype: int64\n"
     ]
    }
   ],
   "source": [
    "#This selects the \"sex\" column located in the \"hw_data_df_2\" dataframe and computes the number of instances of unique values\n",
    "#Following the computation, assign the values to the \"sex_value_counts\" variable\n",
    "sex_value_counts = hw_data_df_2['sex'].value_counts()\n",
    "\n",
    "#Print the unique value counts for the sex column\n",
    "print(sex_value_counts)"
   ]
  },
  {
   "cell_type": "markdown",
   "metadata": {},
   "source": [
    "## 4. Plot Height vs. Weight "
   ]
  },
  {
   "cell_type": "code",
   "execution_count": 171,
   "metadata": {},
   "outputs": [
    {
     "data": {
      "image/png": "[encoded data removed]",
      "text/plain": [
       "<Figure size 640x480 with 1 Axes>"
      ]
     },
     "metadata": {},
     "output_type": "display_data"
    }
   ],
   "source": [
    "plt.scatter(hw_data_df_2['height'], hw_data_df_2['weight'])\n",
    "plt.title('Height vs. Weight')\n",
    "plt.xlabel('Height (Inches)')\n",
    "plt.ylabel('Weight (Pounds)')\n",
    "plt.show()"
   ]
  },
  {
   "cell_type": "markdown",
   "metadata": {},
   "source": [
    "## 5. Calculate BMI and save as a new column"
   ]
  },
  {
   "cell_type": "code",
   "execution_count": 172,
   "metadata": {},
   "outputs": [
    {
     "name": "stdout",
     "output_type": "stream",
     "text": [
      "   id sex  weight  height  mHeight   kgWeight        BMI\n",
      "0   1   M     190      77   1.9558  86.182653  22.530508\n",
      "1   2   F     120      70   1.7780  54.431149  17.218051\n",
      "2   3   F     110      68   1.7272  49.895220  16.725291\n",
      "3   4   M     150      72   1.8288  68.038936  20.343473\n",
      "4   5   O     120      66   1.6764  54.431149  19.368331\n"
     ]
    }
   ],
   "source": [
    "#First and foremost, we must convert weight (pounds) and height (inches) to weight (kilograms) and height (meters ^ 2) in \n",
    "#order to calculate the BMI values\n",
    "\n",
    "#For height, convert inches to meters\n",
    "hw_data_df_2['mHeight'] = hw_data_df_2['height'] * .0254\n",
    "\n",
    "#For weight, convert pounds to kilograms\n",
    "hw_data_df_2['kgWeight'] = hw_data_df_2['weight'] / 2.20462\n",
    "\n",
    "#Now that we've obtained the proper variables, calculate the BMI values\n",
    "hw_data_df_2['BMI'] = hw_data_df_2['kgWeight'] / (hw_data_df_2['mHeight'] ** 2)\n",
    "                   \n",
    "#View the BMI values that were just calculated\n",
    "print(hw_data_df_2.head())"
   ]
  },
  {
   "cell_type": "markdown",
   "metadata": {},
   "source": [
    "## 6. Save sheet as a new CSV file `hw_dataB.csv`"
   ]
  },
  {
   "cell_type": "code",
   "execution_count": 173,
   "metadata": {},
   "outputs": [],
   "source": [
    "hw_data_df_2.to_csv('hw_dataB.csv', index=False)"
   ]
  },
  {
   "cell_type": "markdown",
   "metadata": {},
   "source": [
    "## Run the following (Mac)"
   ]
  },
  {
   "cell_type": "code",
   "execution_count": 119,
   "metadata": {},
   "outputs": [
    {
     "name": "stderr",
     "output_type": "stream",
     "text": [
      "'cat' is not recognized as an internal or external command,\n",
      "operable program or batch file.\n"
     ]
    }
   ],
   "source": [
    "#Not applicable since I am on a Windows computer\n",
    "!cat hw_dataB.csv"
   ]
  },
  {
   "cell_type": "markdown",
   "metadata": {},
   "source": [
    "## Run the following (Windows) "
   ]
  },
  {
   "cell_type": "code",
   "execution_count": 174,
   "metadata": {},
   "outputs": [
    {
     "name": "stdout",
     "output_type": "stream",
     "text": [
      "id,sex,weight,height,mHeight,kgWeight,BMI\n",
      "1,M,190,77,1.9558,86.18265279277155,22.53050750473164\n",
      "2,F,120,70,1.778,54.43114913227677,17.218050998352812\n",
      "3,F,110,68,1.7271999999999998,49.895220037920375,16.72529103249742\n",
      "4,M,150,72,1.8288,68.03893641534596,20.343472678416468\n",
      "5,O,120,66,1.6764,54.43114913227677,19.368331012839484\n",
      "6,M,120,60,1.524,54.43114913227677,23.43568052553577\n",
      "7,F,140,70,1.778,63.50300732098956,20.087726164744943\n"
     ]
    }
   ],
   "source": [
    "!type hw_dataB.csv\n",
    "\n",
    "#The following command returns a rows of observations along with variable columns.\n",
    "\n",
    "#Column 1 represents the ID (observation)\n",
    "#Column 2 represents the sex (male or female, with one instance of O)\n",
    "#Column 3 represents teh weight (in pounds i am assuming)\n",
    "#Column 4 represents the height (in inches i am assuming)\n",
    "#Column 5 represents the height (in meters)\n",
    "#Column 6 represents the weight (in kilograms)\n",
    "#Column 8 represents the BMI index value"
   ]
  }
 ],
 "metadata": {
  "kernelspec": {
   "display_name": "Python 3 (ipykernel)",
   "language": "python",
   "name": "python3"
  },
  "language_info": {
   "codemirror_mode": {
    "name": "ipython",
    "version": 3
   },
   "file_extension": ".py",
   "mimetype": "text/x-python",
   "name": "python",
   "nbconvert_exporter": "python",
   "pygments_lexer": "ipython3",
   "version": "3.9.13"
  }
 },
 "nbformat": 4,
 "nbformat_minor": 1
}
