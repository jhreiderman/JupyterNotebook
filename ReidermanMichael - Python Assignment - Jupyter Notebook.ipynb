{
 "cells": [
  {
   "cell_type": "code",
   "execution_count": 38,
   "id": "7e478f7c",
   "metadata": {},
   "outputs": [
    {
     "name": "stdout",
     "output_type": "stream",
     "text": [
      "Hello World\n"
     ]
    }
   ],
   "source": [
    "print(\"Hello World\")\n"
   ]
  },
  {
   "cell_type": "code",
   "execution_count": 39,
   "id": "8c812913",
   "metadata": {},
   "outputs": [
    {
     "data": {
      "text/plain": [
       "4"
      ]
     },
     "execution_count": 39,
     "metadata": {},
     "output_type": "execute_result"
    }
   ],
   "source": [
    "2 + 2\n"
   ]
  },
  {
   "cell_type": "code",
   "execution_count": 40,
   "id": "f29473c3",
   "metadata": {},
   "outputs": [
    {
     "data": {
      "text/plain": [
       "4"
      ]
     },
     "execution_count": 40,
     "metadata": {},
     "output_type": "execute_result"
    }
   ],
   "source": [
    "2 * 2\n"
   ]
  },
  {
   "cell_type": "code",
   "execution_count": 41,
   "id": "f4390124",
   "metadata": {},
   "outputs": [
    {
     "data": {
      "text/plain": [
       "5.0"
      ]
     },
     "execution_count": 41,
     "metadata": {},
     "output_type": "execute_result"
    }
   ],
   "source": [
    "10 / 2\n"
   ]
  },
  {
   "cell_type": "code",
   "execution_count": 42,
   "id": "55ec7f92",
   "metadata": {},
   "outputs": [
    {
     "data": {
      "text/plain": [
       "15"
      ]
     },
     "execution_count": 42,
     "metadata": {},
     "output_type": "execute_result"
    }
   ],
   "source": [
    "a = 5\n",
    "b = 3\n",
    "\n",
    "a * b\n"
   ]
  },
  {
   "cell_type": "code",
   "execution_count": 43,
   "id": "a1ed6d5a",
   "metadata": {},
   "outputs": [
    {
     "name": "stdout",
     "output_type": "stream",
     "text": [
      "Salutations, Michael Reiderman, and welcome to Jupyter notebook\n"
     ]
    }
   ],
   "source": [
    "myname = \"Michael Reiderman\"\n",
    "salutations = \"Salutations, \" + myname + \", and welcome to Jupyter notebook\"\n",
    "print(salutations)\n"
   ]
  },
  {
   "cell_type": "code",
   "execution_count": 44,
   "id": "f7020a89",
   "metadata": {},
   "outputs": [
    {
     "name": "stdout",
     "output_type": "stream",
     "text": [
      "I am very fond of apples\n",
      "I am very fond of apricots\n",
      "I am very fond of oranges\n"
     ]
    }
   ],
   "source": [
    "fruits = [\"apples\", \"apricots\", \"oranges\"]\n",
    "for fruits in fruits:\n",
    "    print(\"I am very fond of\", fruits)\n",
    "    "
   ]
  },
  {
   "cell_type": "code",
   "execution_count": 45,
   "id": "bfd7af68",
   "metadata": {},
   "outputs": [],
   "source": [
    "import pandas as pd\n",
    "import matplotlib.pyplot as plt\n"
   ]
  },
  {
   "cell_type": "code",
   "execution_count": 46,
   "id": "9d14bbdc",
   "metadata": {},
   "outputs": [
    {
     "data": {
      "image/png": "[encoded data removed]",
      "text/plain": [
       "<Figure size 500x500 with 1 Axes>"
      ]
     },
     "metadata": {},
     "output_type": "display_data"
    }
   ],
   "source": [
    "#Define varaibles and their associated values\n",
    "variables = ['A', 'B', 'C', 'D']\n",
    "vvalues = [10, 20, 30, 40]\n",
    "\n",
    "#Create barchart with the following properties\n",
    "plt.figure(figsize=(5, 5))\n",
    "plt.bar(variables, vvalues, color=\"lightgreen\")\n",
    "plt.xlabel('Arbitrary Categories')\n",
    "plt.ylabel('Aribtrary Values')\n",
    "plt.title('Random Title')\n",
    "plt.show()\n"
   ]
  },
  {
   "cell_type": "code",
   "execution_count": 47,
   "id": "8f4382fa",
   "metadata": {},
   "outputs": [
    {
     "name": "stdout",
     "output_type": "stream",
     "text": [
      "      Name  Age      Region\n",
      "2    Lenny    6  East Coast\n",
      "0  Michael   35  West Coast\n",
      "1    David   52     Midwest\n"
     ]
    }
   ],
   "source": [
    "#Random data\n",
    "randomdata = {'Name': ['Michael', 'David', 'Lenny'],\n",
    "        'Age': [35, 52, 6],\n",
    "        'Region': ['West Coast', 'Midwest', 'East Coast']}\n",
    "randomdf = pd.DataFrame(randomdata)\n",
    "\n",
    "#Sort by age\n",
    "s_randomdf = randomdf.sort_values(by='Age')\n",
    "\n",
    "#Print dataframe\n",
    "print(s_randomdf)\n"
   ]
  }
 ],
 "metadata": {
  "kernelspec": {
   "display_name": "Python 3 (ipykernel)",
   "language": "python",
   "name": "python3"
  },
  "language_info": {
   "codemirror_mode": {
    "name": "ipython",
    "version": 3
   },
   "file_extension": ".py",
   "mimetype": "text/x-python",
   "name": "python",
   "nbconvert_exporter": "python",
   "pygments_lexer": "ipython3",
   "version": "3.9.13"
  }
 },
 "nbformat": 4,
 "nbformat_minor": 5
}
